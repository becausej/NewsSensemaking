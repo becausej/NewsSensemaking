{
 "cells": [
  {
   "cell_type": "markdown",
   "id": "b0379c7f-e40d-4e14-9860-afee53844b41",
   "metadata": {},
   "source": [
    "Run all commands listed in requirements.txt, proper format wasn't working from pipreqs\n",
    "\n",
    "Also run the commented out nltk import & downloads exactly once to use newspaper's nlp features"
   ]
  },
  {
   "cell_type": "code",
   "execution_count": 18,
   "id": "d3c5a454-e7b8-4008-b047-3c5139ac89a4",
   "metadata": {},
   "outputs": [],
   "source": [
    "import newspaper\n",
    "from nela_features.nela_features import NELAFeatureExtractor\n",
    "import numpy as np\n",
    "import pandas as pd\n",
    "import jellyfish\n",
    "import tldextract\n",
    "import pickle\n",
    "# Run the below once\n",
    "#import nltk\n",
    "#nltk.download('punkt_tab')\n",
    "#nltk.download('punkt')"
   ]
  },
  {
   "cell_type": "code",
   "execution_count": 19,
   "id": "d930ddb7-590d-4f1f-b3ce-d71a6f43951f",
   "metadata": {},
   "outputs": [],
   "source": [
    "def get_article_text(url):\n",
    "    return newspaper.article(url).text\n",
    "\n",
    "def smog_to_text(smog):\n",
    "    if smog >= 17:\n",
    "        return \"Graduate\"\n",
    "    if smog >= 13:\n",
    "        return \"Undergraduate\"\n",
    "    if smog >= 9:\n",
    "        return \"High School\"\n",
    "    if smog >= 5:\n",
    "        return \"Middle School\"\n",
    "    else:\n",
    "        return \"Elementary School\"\n",
    "        \n",
    "def get_nela_smog_text(text):\n",
    "    nela = NELAFeatureExtractor()\n",
    "    print(text)\n",
    "    complexity_vector, complexity_names = nela.extract_complexity(text) \n",
    "    return smog_to_text(complexity_vector[4])\n",
    "    \n",
    "def get_nela_smog(url):\n",
    "    text = get_article_text(url)\n",
    "    return get_nela_smog_text(text)"
   ]
  },
  {
   "cell_type": "code",
   "execution_count": 20,
   "id": "2a7c054c-2660-49cb-a514-7fc7afd7f6cf",
   "metadata": {},
   "outputs": [
    {
     "name": "stdout",
     "output_type": "stream",
     "text": [
      "Loading glove embeddings\n"
     ]
    }
   ],
   "source": [
    "glove_embeddings = {}\n",
    "print(\"Loading glove embeddings\")\n",
    "with open('glove.6B.100d.txt', 'r',encoding='utf8') as f:\n",
    "    for line in f:\n",
    "        values = line.split(' ')\n",
    "        word = values[0]\n",
    "        vector = np.asarray(values[1:], \"float32\")\n",
    "        glove_embeddings[word] = vector\n",
    "test_embeddings = [\n",
    "    # Socioeconomic status\n",
    "    {'name': 'rich/poor', 'dir1': [\"rich\", \"wealthy\", \"affluent\"], \"dir2\": [\"poor\", \"impoverished\", \"destitute\"]},\n",
    "    \n",
    "    # Age bias\n",
    "    {'name': 'young/old', 'dir1': [\"young\", \"youthful\", \"vibrant\"], \"dir2\": [\"old\", \"elderly\", \"aged\"]},\n",
    "    \n",
    "    # Gender stereotypes (roles)\n",
    "    {'name': 'male/female stereotypes', 'dir1': [\"leader\", \"strong\", \"assertive\"], \"dir2\": [\"nurturing\", \"caring\", \"supportive\"]},\n",
    "    \n",
    "    # Rural vs. Urban bias\n",
    "    {'name': 'rural/urban', 'dir1': [\"urban\", \"city\"], \"dir2\": [\"rural\", \"countryside\"]},\n",
    "    \n",
    "    # Employment bias (white-collar vs. blue-collar)\n",
    "    {'name': 'white-collar/blue-collar', 'dir1': [\"professional\", \"educated\", \"executive\"], \"dir2\": [\"manual\", \"laborer\", \"working-class\"]},\n",
    "    \n",
    "    # Intelligence perception\n",
    "    {'name': 'smart/dumb', 'dir1': [\"smart\", \"intelligent\"], 'dir2': [\"dumb\", \"stupid\"]},\n",
    "]        \n",
    "def find_embedding_features(inp, glove_embeddings):\n",
    "    # Find the average embedding of the sentence\n",
    "    words = inp.split()\n",
    "    embedding = np.zeros(len(glove_embeddings['the']))\n",
    "    \n",
    "    for word in words:\n",
    "        if word.lower() in glove_embeddings:\n",
    "            embedding += glove_embeddings[word.lower()]\n",
    "    embedding /= len(words)\n",
    "    \n",
    "    # Now find all cosine similarities to the difference between dir1 and dir2\n",
    "    embedding_features = []\n",
    "    embedding_names = []\n",
    "    for test_embedding in test_embeddings:\n",
    "        net_dir = np.zeros(len(glove_embeddings['the']))\n",
    "        for word in test_embedding['dir1']:\n",
    "            net_dir += glove_embeddings[word]\n",
    "        for word in test_embedding['dir2']:\n",
    "            net_dir -= glove_embeddings[word]\n",
    "        net_dir /= len(test_embedding['dir1']) + len(test_embedding['dir2'])\n",
    "        \n",
    "        # Find the cosine similarity\n",
    "        cos_sim = np.dot(embedding, net_dir) / (np.linalg.norm(embedding) * np.linalg.norm(net_dir))\n",
    "\n",
    "        embedding_features.append(cos_sim)\n",
    "        embedding_names.append(test_embedding['name'])\n",
    "        \n",
    "    return embedding_features, embedding_names\n",
    "    \n",
    "def embedding_vector(text,glove_embeddings):\n",
    "    embedding_features, embedding_names = find_embedding_features(text, glove_embeddings)\n",
    "    return embedding_features"
   ]
  },
  {
   "cell_type": "code",
   "execution_count": 21,
   "id": "da2ee5b9-27c6-48f1-a0ce-bd92eb92c088",
   "metadata": {},
   "outputs": [],
   "source": [
    "# using allsides ratings dataset found at https://www.kaggle.com/datasets/supratimhaldar/allsides-ratings-of-bias-in-electronic-media\n",
    "def get_allsides(url):\n",
    "    allsides = pd.read_csv('dataset/allsides.csv')\n",
    "    parsed = tldextract.extract(url)\n",
    "    website = parsed.domain\n",
    "    allsides_vals = allsides.values\n",
    "    sources = allsides_vals[:,0]\n",
    "    dict = {'center': 50, 'left-center': 25, 'left': 5, 'right-center': 75, 'right': 95}\n",
    "    rows = [row for row in allsides_vals if website.lower() in row[0].lower()]\n",
    "    if rows == []:\n",
    "        rows = [row for row in allsides_vals if website.lower()[:3] in row[0].lower() and website.lower()[:3] != 'the']\n",
    "    if rows != []:\n",
    "        rows.sort(key = lambda x: x[2],reverse=True)\n",
    "        return dict[rows[0][1]]\n",
    "    #distances = [jellyfish.levenshtein_distance(website.lower(), x.lower()) for x in sources]\n",
    "    #loc = distances.index(min(distances))\n",
    "    distances = [jellyfish.jaro_similarity(website.lower(), x.lower()) for x in sources]\n",
    "    loc = distances.index(max(distances))\n",
    "    source_allsides_format = sources[loc]\n",
    "    row = allsides_vals[loc]\n",
    "    return dict[row[1]]\n",
    "    \n",
    "def get_knn_class_text(text):\n",
    "    with open('knnfakenews.pkl', 'rb') as f:\n",
    "        knn = pickle.load(f)\n",
    "    nela = NELAFeatureExtractor()\n",
    "    feature_vector, feature_names = nela.extract_all(text)\n",
    "    feature_vector = feature_vector + embedding_vector(text,glove_embeddings)\n",
    "    vector = [[feature_vector[i] for i in [89, 92, 4, 59, 24]]]\n",
    "    return True if knn.predict(vector) == [1] else False\n",
    "    \n",
    "def get_knn_class(url):\n",
    "    text = get_article_text(url)\n",
    "    return get_knn_class_text(text)"
   ]
  },
  {
   "cell_type": "code",
   "execution_count": 22,
   "id": "bfe2d55c-6d04-410a-b96d-184ee8759846",
   "metadata": {},
   "outputs": [
    {
     "name": "stdout",
     "output_type": "stream",
     "text": [
      "25\n"
     ]
    }
   ],
   "source": [
    "print(get_allsides(\"https://www.nytimes.com/2024/11/26/world/middleeast/israel-oct-7-inquiry.html\"))"
   ]
  },
  {
   "cell_type": "code",
   "execution_count": 23,
   "id": "7886b806-40aa-47de-80c2-6ab37ed6215f",
   "metadata": {},
   "outputs": [
    {
     "name": "stdout",
     "output_type": "stream",
     "text": [
      "True\n",
      "25\n"
     ]
    }
   ],
   "source": [
    "url = \"https://www.nytimes.com/2024/11/26/world/middleeast/israel-oct-7-inquiry.html\"\n",
    "print(get_knn_class(url))\n",
    "print(get_allsides(url))"
   ]
  },
  {
   "cell_type": "code",
   "execution_count": 24,
   "id": "dd1cc45b-33e5-49ff-8e13-a895903d77a8",
   "metadata": {},
   "outputs": [
    {
     "name": "stdout",
     "output_type": "stream",
     "text": [
      "False\n",
      "Sagittarius\n",
      "\n",
      "You’re going out in that? No, you look great. Very bold.\n",
      "Middle School\n",
      "5\n"
     ]
    }
   ],
   "source": [
    "url = \"https://theonion.com/announcement-of-fourth-child-contains-conspicuous-lack-of-exclamation-points/\"\n",
    "print(get_knn_class(url))\n",
    "print(get_nela_smog(url))\n",
    "print(get_allsides(url))"
   ]
  },
  {
   "cell_type": "code",
   "execution_count": 25,
   "id": "518f5997-324a-44aa-8527-b94d3ab7befd",
   "metadata": {},
   "outputs": [
    {
     "name": "stdout",
     "output_type": "stream",
     "text": [
      "True\n",
      "25\n"
     ]
    }
   ],
   "source": [
    "url = \"https://www.cbsnews.com/news/tom-homan-greg-abbott-texas-border-visit/\"\n",
    "print(get_knn_class(url))\n",
    "print(get_allsides(url))"
   ]
  },
  {
   "cell_type": "code",
   "execution_count": 26,
   "id": "9e1d18b1-741d-46af-9d5e-3ae0af909e8e",
   "metadata": {},
   "outputs": [
    {
     "name": "stdout",
     "output_type": "stream",
     "text": [
      "False\n",
      "5\n"
     ]
    }
   ],
   "source": [
    "url = \"https://skepticalinquirer.org/exclusive/are-saunas-good-for-you-yes-but/\"\n",
    "print(get_knn_class(url))\n",
    "print(get_allsides(url))"
   ]
  },
  {
   "cell_type": "code",
   "execution_count": 27,
   "id": "2bf0d66e-3d33-4344-91b0-a277703f5e42",
   "metadata": {},
   "outputs": [
    {
     "name": "stdout",
     "output_type": "stream",
     "text": [
      "True\n",
      "5\n"
     ]
    }
   ],
   "source": [
    "url = 'https://jacobin.com/2024/11/trump-biden-israel-middle-east'\n",
    "print(get_knn_class(url))\n",
    "print(get_allsides(url))"
   ]
  },
  {
   "cell_type": "code",
   "execution_count": 28,
   "id": "e1dba4a8-d63d-447d-a3a6-c6bf47318b63",
   "metadata": {},
   "outputs": [
    {
     "name": "stdout",
     "output_type": "stream",
     "text": [
      "True\n",
      "5\n"
     ]
    }
   ],
   "source": [
    "url = 'https://www.cnn.com/2023/10/24/politics/supreme-court-florida-anti-drag-law/index.html'\n",
    "print(get_knn_class(url))\n",
    "print(get_allsides(url))"
   ]
  },
  {
   "cell_type": "code",
   "execution_count": 29,
   "id": "d933de16-419c-4053-b0d0-a9a588b94169",
   "metadata": {},
   "outputs": [
    {
     "name": "stdout",
     "output_type": "stream",
     "text": [
      "True\n",
      "50\n"
     ]
    }
   ],
   "source": [
    "url = 'https://www.forbes.com/sites/alexkonrad/2024/11/27/elon-musk-doge-attracts-young-coders-and-tech-ceos/'\n",
    "print(get_knn_class(url))\n",
    "print(get_allsides(url))"
   ]
  },
  {
   "cell_type": "code",
   "execution_count": 30,
   "id": "16032cfa-f3f6-4b81-9012-edd8d9a5d159",
   "metadata": {},
   "outputs": [
    {
     "name": "stdout",
     "output_type": "stream",
     "text": [
      "False\n",
      "25\n",
      "There was a time, not that long ago, when President Biden imagined he would etch his place in history as the leader who ended the chaotic reign of Donald J. Trump, passed a raft of “Build Back Better” laws to transform the country and reestablished America’s place in the world.\n",
      "\n",
      "Now, in the desultory final days of his administration, Mr. Biden finds himself repudiated, even by some of his fellow Democrats, as the president who refused to step aside until it was too late, paved the way for Mr. Trump’s return to power and, in a final gesture of personal grievance over stated principle, pardoned his own son for multiple felony convictions.\n",
      "\n",
      "The disappointment and frustration expressed by his own supporters since Mr. Biden intervened to spare his son Hunter from prison and any future investigations captured the disenchantment of many Democrats with the outgoing president as the end draws near. How he will be remembered by posterity may be hard to predict at this point, but the past few weeks have not helped write the legacy he had once envisioned.\n",
      "\n",
      "The pardon came as Mr. Biden’s political stock was already at a low ebb after a stinging election defeat for his party that many allies blamed more on him than on the candidate who stepped up after he belatedly dropped out, Vice President Kamala Harris. The decision to attack the credibility of the justice system to safeguard a relative aggravated admirers who sympathized with his plight as a father yet were shocked that he would break his own promise to respect the courts’ decision.\n",
      "\n",
      "“I don’t think there is any doubt that our country would have been better off if President Biden had decided not to run for re-election,” said Senator Michael Bennet of Colorado, reflecting a view that has been more commonly voiced privately by his fellow Democrats since Mr. Trump beat Ms. Harris last month. “Whether our nominee was the vice president or someone else, we would have had a much better chance to defeat Donald Trump.”\n",
      "\n",
      "Mr. Bennet, a low-key lawmaker not normally given to knee-jerk public criticism of the leader of his party, added that the clemency order fit the same pattern. “His decision to pardon his son, no matter how unconditional his love, feels like another instance of putting his personal interest ahead of his responsibility to the country,” he said. “It further erodes Americans’ faith that the justice system is fair and equal for all.”\n",
      "\n",
      "Representative Jason Crow, another Democrat from Colorado, said that no one should compare Mr. Biden with Mr. Trump, who talks about using the law enforcement system as part of a campaign of “retribution” against those who have angered him once he returns to office. He also emphasized that he understood the depth of a father’s love of a son struggling with addiction after a lifetime of personal tragedy for the Biden family.\n",
      "\n",
      "But Mr. Crow said that Mr. Biden had complicated the case that Mr. Trump represents a unique threat to the rule of law. “I think the pardon was a mistake,” he said in an interview. “I’m disappointed this was the decision that he landed on here. He promised he would not do this. I think it will make it harder for us going forward when we talk about upholding democracy.”\n",
      "\n",
      "Speaking with reporters on Air Force One en route to Luanda, Ms. Jean-Pierre offered no elaboration on what made Mr. Biden change his mind about pardoning his son. Nor did she reply directly when asked if Mr. Biden in fact had not been telling the truth when he had said he would not intervene — and sent her out to repeat the promise over the last few months.\n",
      "\n",
      "“He wrestled with it,” Ms. Jean-Pierre said. “He thought about it. And he believed and what he saw was that his son was singled out. And so he made this decision.”\n",
      "\n",
      "She rejected the notion that there was a conflict for Mr. Biden between promising to restore the independence of the law enforcement system and then overturning its judgment, ratified by judges and a jury of Hunter Biden’s peers, on the grounds that it was politically biased against him.\n",
      "\n",
      "“I don’t think it’s a contradiction,” Ms. Jean-Pierre said. “Two things can be true. You can believe in the Department of Justice system and you can also believe that the process was infected politically.”\n",
      "\n",
      "Mr. Biden is sliding toward the end of his presidency in lackluster fashion. He has largely ceded the stage to Mr. Trump, who is already conducting his own foreign policy without waiting to take office and building a wish list for his administration stocked with once-fringe figures intent on dismantling the very departments they are being assigned to run. Withdrawing from the fray, Mr. Biden maintains a light public schedule and has not held a news conference or given an interview since the election.\n",
      "\n",
      "His trip to Angola this week allows him to say he fulfilled his promise to visit sub-Saharan Africa while president, but just barely, with two full days on the continent weeks before leaving office. He was such a marginalized figure during a recent international summit in Brazil that when he was late for a group photograph, other world leaders did not bother to wait and went ahead without him.\n",
      "\n",
      "At home, his approval rating has dwindled to 37.7 percent in an aggregation of polls by the website FiveThirtyEight, near the low point of his tenure. His best political moment recently was brokering a cease-fire between Israel and Lebanon, but his hopes of finally ending the war in Gaza and securing the release of hostages held by Hamas remain unrealized.\n",
      "\n",
      "The consternation with Mr. Biden among Democrats in Washington has been palpable since the election and has only been exacerbated by the pardon. To critics inside his party, his insistence on running when he knew he would be 86 at the end of his second term and his decision to exempt his son from liability both speak of hubris and self-interest.\n",
      "\n",
      "“As a father, I very much understand the instinct to do everything in your power to protect your children, particularly given the tragedies the Biden family has endured,” said David Axelrod, a former strategist for President Barack Obama. “But as an American, I worry that his decision, contravening months of public denials, will only add to cynicism about the integrity of the justice system.”\n",
      "\n",
      "“Joe Biden is many things, but I can say for certain he is a loving father,” Senator Richard J. Durbin of Illinois, the No. 2 ranking Democrat in the Senate, said in an interview. The president, he added, “would gladly go into that jail cell himself to spare his son that experience.”\n",
      "\n",
      "Anthony Coley, a former Justice Department official in the Biden administration, said “the pardon itself is appropriate” given the danger to Hunter Biden. Mr. Trump has announced that he will nominate Pam Bondi, a former Florida attorney general who has assailed Hunter Biden, to run the Justice Department, and Kash Patel, a former aide who has promised to “come after” the president-elect’s adversaries, to run the F.B.I.\n",
      "\n",
      "“Trump is putting people in place to weaponize the Justice Department and what father wouldn’t protect his own only surviving son from unjustified political harassment?” Mr. Coley said.\n",
      "\n",
      "Still, he added, Mr. Biden’s assertion that politics drove the prosecution of Hunter Biden by the Biden Justice Department echoes Mr. Trump’s own grievances and is not supported by facts. “I can’t imagine that with distance of time, history will view that language any more favorably than many view it today,” Mr. Coley said.\n",
      "\n",
      "History, of course, is fickle, and when it comes to Mr. Biden’s legacy, much will depend on the last seven weeks of his tenure and, to a degree, on the four years that follow. Mr. Biden hopes that future generations will focus on his work to pull America out of the Covid-19 pandemic, rebuild the nation’s roads and bridges, fight climate change, expand access to health care and stand up to Russian aggression.\n",
      "\n",
      "But he surely understood the political risk that he would take in pardoning his son and ultimately decided that it was too important to him, no matter what the backlash might be. He has endured a half-century political career of dramatic ups and downs. Whatever the final results, he will live with them too.\n",
      "\n",
      "Carl Hulse and Maya C. Miller contributed reporting from Washington.\n",
      "Undergraduate\n"
     ]
    }
   ],
   "source": [
    "url = 'https://www.nytimes.com/2024/12/02/us/politics/biden-pardon-criticized-democrats.html'\n",
    "print(get_knn_class(url))\n",
    "print(get_allsides(url))\n",
    "print(get_nela_smog(url))"
   ]
  },
  {
   "cell_type": "code",
   "execution_count": null,
   "id": "32d8bc6c-ff30-4037-83b6-09e50e023a52",
   "metadata": {},
   "outputs": [],
   "source": []
  }
 ],
 "metadata": {
  "kernelspec": {
   "display_name": "Python 3 (ipykernel)",
   "language": "python",
   "name": "python3"
  },
  "language_info": {
   "codemirror_mode": {
    "name": "ipython",
    "version": 3
   },
   "file_extension": ".py",
   "mimetype": "text/x-python",
   "name": "python",
   "nbconvert_exporter": "python",
   "pygments_lexer": "ipython3",
   "version": "3.13.0"
  }
 },
 "nbformat": 4,
 "nbformat_minor": 5
}
