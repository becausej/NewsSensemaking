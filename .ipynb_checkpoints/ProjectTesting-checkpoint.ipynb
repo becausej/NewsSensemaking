{
 "cells": [
  {
   "cell_type": "markdown",
   "id": "b0379c7f-e40d-4e14-9860-afee53844b41",
   "metadata": {},
   "source": [
    "Run all commands listed in requirements.txt, proper format wasn't working from pipreqs"
   ]
  },
  {
   "cell_type": "code",
   "execution_count": 10,
   "id": "d3c5a454-e7b8-4008-b047-3c5139ac89a4",
   "metadata": {},
   "outputs": [],
   "source": [
    "import newspaper\n",
    "\n",
    "# Run the below once\n",
    "#import nltk\n",
    "#nltk.download('punkt_tab')\n",
    "#nltk.download('punkt')"
   ]
  },
  {
   "cell_type": "code",
   "execution_count": 13,
   "id": "af92e69f-4f5c-478f-b766-9b2f1ffcecd3",
   "metadata": {},
   "outputs": [
    {
     "name": "stdout",
     "output_type": "stream",
     "text": [
      "['american', 'battleground', 'christianity', 'chokeholds', 'powerful', 'forces', 'propelling', 'trump', 'biden', 'president', 'trump’s', 'democrats', 'donald', 'running', 'vance', 'race', 'party', 'project', 'house', 'leader', '2025', 'joe', 'white', '2020', 'country', 'night', 'biden’s', 'run', 'mate', 'crowd', 'wrestling', 'presidential', 'days', 'polls', 'day']\n",
      "Editor’s Note: This is the second of a five-part series that tells the story of the closing months of the 2024 presidential campaign, starting with the June debate between President Joe Biden and former President Donald Trump.\n",
      "“Hey hey, ho ho, thank you, Joe, it’s time to go!” The success of former President Donald Trump’s campaign is becoming a catastrophe for sitting President Joe Biden.\n",
      "A fundraising appeal from the Biden campaign says, “How does a guy who used to say that Donald Trump and his policies were ‘reprehensible,’ become Donald Trump’s running mate?\n",
      "Through years of being a rubber-stamp for Donald Trump’s extreme, MAGA agenda.\n",
      "But even though Trump is casting himself as the martyr, within days it will seem he was playing the prophet.\n"
     ]
    }
   ],
   "source": [
    "url = \"https://www.cnn.com/2024/10/29/politics/christianity-wrestling-trump-analysis/index.html\"\n",
    "\n",
    "article = newspaper.article(url)\n",
    "\n",
    "text = article.text\n",
    "\n",
    "\n",
    "with open('out.txt', 'w') as f:\n",
    "    print(article.text, file=f)  \n",
    "\n",
    "\n",
    "article.nlp()\n",
    "\n",
    "print(article.keywords)\n",
    "\n",
    "print(article.summary)\n"
   ]
  },
  {
   "cell_type": "code",
   "execution_count": null,
   "id": "8dd5f402-749d-4fcb-9885-cb1c94d6c020",
   "metadata": {},
   "outputs": [],
   "source": []
  }
 ],
 "metadata": {
  "kernelspec": {
   "display_name": "Python 3 (ipykernel)",
   "language": "python",
   "name": "python3"
  },
  "language_info": {
   "codemirror_mode": {
    "name": "ipython",
    "version": 3
   },
   "file_extension": ".py",
   "mimetype": "text/x-python",
   "name": "python",
   "nbconvert_exporter": "python",
   "pygments_lexer": "ipython3",
   "version": "3.10.5"
  }
 },
 "nbformat": 4,
 "nbformat_minor": 5
}
