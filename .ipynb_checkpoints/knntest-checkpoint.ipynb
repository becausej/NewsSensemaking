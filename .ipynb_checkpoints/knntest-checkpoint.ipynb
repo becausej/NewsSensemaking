{
 "cells": [
  {
   "cell_type": "code",
   "execution_count": 183,
   "id": "9d9cb9c8-788a-402f-911d-3a0456f5a625",
   "metadata": {},
   "outputs": [
    {
     "name": "stdout",
     "output_type": "stream",
     "text": [
      "0 quotes\n",
      "1 exclaim\n",
      "2 allpunc\n",
      "3 allcaps\n",
      "4 stops\n",
      "5 CC\n",
      "6 CD\n",
      "7 DT\n",
      "8 EX\n",
      "9 FW\n",
      "10 IN\n",
      "11 JJ\n",
      "12 JJR\n",
      "13 JJS\n",
      "14 LS\n",
      "15 MD\n",
      "16 NN\n",
      "17 NNS\n",
      "18 NNP\n",
      "19 NNPS\n",
      "20 PDT\n",
      "21 POS\n",
      "22 PRP\n",
      "23 PRP$\n",
      "24 RB\n",
      "25 RBR\n",
      "26 RBS\n",
      "27 RP\n",
      "28 SYM\n",
      "29 TO\n",
      "30 UH\n",
      "31 WP$\n",
      "32 WRB\n",
      "33 VB\n",
      "34 VBD\n",
      "35 VBG\n",
      "36 VBN\n",
      "37 VBP\n",
      "38 VBZ\n",
      "39 WDT\n",
      "40 WP\n",
      "41 $\n",
      "42 ''\n",
      "43 (\n",
      "44 )\n",
      "45 ,\n",
      "46 --\n",
      "47 .\n",
      "48 :\n",
      "49 ``\n",
      "50 ttr\n",
      "51 avg_wordlen\n",
      "52 word_count\n",
      "53 flesch_kincaid_grade_level\n",
      "54 smog_index\n",
      "55 coleman_liau_index\n",
      "56 lix\n",
      "57 bias_words\n",
      "58 assertatives\n",
      "59 factives\n",
      "60 hedges\n",
      "61 implicatives\n",
      "62 report_verbs\n",
      "63 positive_opinion_words\n",
      "64 negative_opinion_words\n",
      "65 vadneg\n",
      "66 vadneu\n",
      "67 vadpos\n",
      "68 wneg\n",
      "69 wpos\n",
      "70 wneu\n",
      "71 sneg\n",
      "72 spos\n",
      "73 sneu\n",
      "74 HarmVirtue\n",
      "75 HarmVice\n",
      "76 FairnessVirtue\n",
      "77 FairnessVice\n",
      "78 IngroupVirtue\n",
      "79 IngroupVice\n",
      "80 AuthorityVirtue\n",
      "81 AuthorityVice\n",
      "82 PurityVirtue\n",
      "83 PurityVice\n",
      "84 MoralityGeneral\n",
      "85 num_locations\n",
      "86 num_dates\n",
      "87 label\n"
     ]
    }
   ],
   "source": [
    "import numpy as np\n",
    "import pandas as pd\n",
    "from sklearn.linear_model import Ridge\n",
    "from sklearn.ensemble import RandomForestRegressor\n",
    "from sklearn.metrics import mean_squared_error, r2_score\n",
    "from collections import Counter\n",
    "import pickle\n",
    "\n",
    "train_data = pd.read_csv('dataset/fakenewstrain.csv')\n",
    "for i,x in enumerate(train_data.columns):\n",
    "    if i!=0:\n",
    "        print(i-1,x)\n",
    "test_data = pd.read_csv('dataset/fakenewstest.csv')\n",
    "\n",
    "# Split data into features and labels\n",
    "X_train = train_data.drop('label', axis=1).values\n",
    "y_train = train_data['label'].values\n",
    "\n",
    "\n",
    "\n",
    "X_test = test_data.drop('label', axis=1).values\n",
    "y_test = test_data['label'].values\n",
    "#print(X_train)\n",
    "X_train = X_train[:,1:]\n",
    "X_test = X_test[:,1:]\n",
    "\n",
    "\n",
    "# replace NaN values with 0 in X\n",
    "X_train = np.nan_to_num(X_train)\n",
    "\n",
    "X_test = np.nan_to_num(X_test)\n"
   ]
  },
  {
   "cell_type": "code",
   "execution_count": 176,
   "id": "67d5c2ba-c396-4199-8134-7c3113fe708e",
   "metadata": {},
   "outputs": [
    {
     "name": "stdout",
     "output_type": "stream",
     "text": [
      "51 20 0.782\n"
     ]
    }
   ],
   "source": [
    "best_score = -1\n",
    "best_a = -1\n",
    "best_b = -1\n",
    "for i in range(1,2):\n",
    "    a = random.randrange(len(X_train[0]))\n",
    "    b = random.randrange(len(X_train[0]))\n",
    "    X_train2 = X_train[:,[24, 22, 4, 86]]\n",
    "    X_test2 = X_test[:,[24, 22, 4, 86]]\n",
    "    #knn = KNeighborsClassifier(n_neighbors=i)\n",
    "    #knn.fit(X_train, [1 if x > 0.5 else 0 for x in y_train])\n",
    "    #predictions = knn.predict(X_test)\n",
    "    clf = MLPClassifier(solver='lbfgs', alpha=1e-5,\n",
    "                       hidden_layer_sizes=(5, 2), random_state=1)\n",
    "    clf.fit(X_train2, y_train)\n",
    "    predictions = clf.predict(X_test2)\n",
    "    score = sum(y_test==predictions)/len(y_test)\n",
    "    if score > best_score:\n",
    "        best_score = score\n",
    "        best_a = a\n",
    "        best_b = b\n",
    "print(best_a,best_b,best_score)"
   ]
  },
  {
   "cell_type": "code",
   "execution_count": 177,
   "id": "98fbde05-33f2-4fb2-b473-6885ef6e1fcb",
   "metadata": {},
   "outputs": [
    {
     "name": "stderr",
     "output_type": "stream",
     "text": [
      "100%|████████████████████████████████████████████████████████████████████████████████| 499/499 [00:08<00:00, 59.11it/s]"
     ]
    },
    {
     "name": "stdout",
     "output_type": "stream",
     "text": [
      "12 18 0.8\n"
     ]
    },
    {
     "name": "stderr",
     "output_type": "stream",
     "text": [
      "\n"
     ]
    }
   ],
   "source": [
    "scores = []\n",
    "best_score = -1\n",
    "best_a = -1\n",
    "best_b = -1\n",
    "best_i = -1\n",
    "for i in tqdm(range(1,500)):\n",
    "    a = random.randrange(len(X_train[0]))\n",
    "    b = random.randrange(len(X_train[0]))\n",
    "    X_train2 = X_train[:,[a,b]]\n",
    "    X_test2 = X_test[:,[a,b]]\n",
    "    X_train2 = X_train[:,[24, 22, 4, 86]]\n",
    "    X_test2 = X_test[:,[24, 22, 4, 86]]\n",
    "    knn = KNeighborsClassifier(n_neighbors=6)\n",
    "    knn.fit(X_train2, y_train)\n",
    "    predictions = knn.predict(X_test2)\n",
    "    score = sum(y_test==predictions)/len(y_test)\n",
    "    scores.append((a,b,score))\n",
    "    if score > best_score:\n",
    "        best_score = score\n",
    "        best_a = a\n",
    "        best_b = b\n",
    "        best_i = i\n",
    "print(best_a,best_b,best_score)\n",
    "#print(y_test)\n",
    "#print(predictions)\n"
   ]
  },
  {
   "cell_type": "code",
   "execution_count": 178,
   "id": "80d7b982-35e7-4be2-b003-5c54d47e654b",
   "metadata": {},
   "outputs": [],
   "source": [
    "X_train2 = X_train[:,[24, 22, 4, 86]]\n",
    "X_test2 = X_test[:,[24, 22, 4, 86]]\n",
    "knn = KNeighborsClassifier(n_neighbors=6)\n",
    "knn.fit(X_train2, y_train)\n",
    "with open('knnfakenews.pkl','wb') as f:\n",
    "    pickle.dump(knn,f)"
   ]
  },
  {
   "cell_type": "code",
   "execution_count": 179,
   "id": "2b6fa404-1add-4c61-843b-a96221d64128",
   "metadata": {},
   "outputs": [],
   "source": [
    "scores.sort(key=lambda x: x[2],reverse=True)\n",
    "gscores = list(filter(lambda x: x[2] >= 0.7,scores))"
   ]
  },
  {
   "cell_type": "code",
   "execution_count": 180,
   "id": "e3010618-da39-4234-ba07-8cec2aa115fb",
   "metadata": {},
   "outputs": [],
   "source": [
    "indices = [x[0] for x in gscores] + [x[1] for x in gscores]"
   ]
  },
  {
   "cell_type": "code",
   "execution_count": 181,
   "id": "51dc8d8b-aa2a-4e6d-9fd7-4b7d862a757a",
   "metadata": {},
   "outputs": [
    {
     "name": "stdout",
     "output_type": "stream",
     "text": [
      "[79, 0, 42, 13, 57, 49, 58, 56, 62, 59, 38, 76, 46, 63, 74, 6, 22, 33, 44, 75, 83, 32, 71, 41, 50, 15, 52, 69, 78, 70, 67, 19, 29, 18, 39, 64, 20, 7, 28, 80, 12, 23, 35, 72, 30, 37, 51, 77, 5, 68, 43, 25, 40, 53, 81, 73, 9, 3, 34, 55, 8, 60, 47, 45, 16, 1, 27, 11, 61, 65, 54, 17, 82, 31, 14, 85, 24, 48, 4, 66, 86, 10, 2, 36, 21, 26, 84]\n"
     ]
    }
   ],
   "source": [
    "counts = Counter(indices).most_common()\n",
    "gcounts = list(filter(lambda x: x[1] > 2,counts))\n",
    "print([x[0] for x in gcounts])"
   ]
  },
  {
   "cell_type": "code",
   "execution_count": null,
   "id": "d581e5b6-47d1-4eb4-b16f-692b68952427",
   "metadata": {},
   "outputs": [],
   "source": []
  }
 ],
 "metadata": {
  "kernelspec": {
   "display_name": "Python 3 (ipykernel)",
   "language": "python",
   "name": "python3"
  },
  "language_info": {
   "codemirror_mode": {
    "name": "ipython",
    "version": 3
   },
   "file_extension": ".py",
   "mimetype": "text/x-python",
   "name": "python",
   "nbconvert_exporter": "python",
   "pygments_lexer": "ipython3",
   "version": "3.10.5"
  }
 },
 "nbformat": 4,
 "nbformat_minor": 5
}
