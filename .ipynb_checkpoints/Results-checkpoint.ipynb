{
 "cells": [
  {
   "cell_type": "markdown",
   "id": "b0379c7f-e40d-4e14-9860-afee53844b41",
   "metadata": {},
   "source": [
    "Run all commands listed in requirements.txt, proper format wasn't working from pipreqs\n",
    "\n",
    "Also run the commented out nltk import & downloads exactly once to use newspaper's nlp features"
   ]
  },
  {
   "cell_type": "code",
   "execution_count": 266,
   "id": "d3c5a454-e7b8-4008-b047-3c5139ac89a4",
   "metadata": {},
   "outputs": [],
   "source": [
    "import newspaper\n",
    "from nela_features.nela_features import NELAFeatureExtractor\n",
    "import numpy as np\n",
    "import pandas as pd\n",
    "import jellyfish\n",
    "import tldextract\n",
    "import pickle\n",
    "# Run the below once\n",
    "#import nltk\n",
    "#nltk.download('punkt_tab')\n",
    "#nltk.download('punkt')"
   ]
  },
  {
   "cell_type": "code",
   "execution_count": 267,
   "id": "d930ddb7-590d-4f1f-b3ce-d71a6f43951f",
   "metadata": {},
   "outputs": [],
   "source": [
    "def get_article_text(url):\n",
    "    return newspaper.article(url).text\n",
    "\n",
    "def smog_to_text(smog):\n",
    "    if smog >= 17:\n",
    "        return \"Graduate\"\n",
    "    if smog >= 13:\n",
    "        return \"Undergraduate\"\n",
    "    if smog >= 9:\n",
    "        return \"High School\"\n",
    "    if smog >= 5:\n",
    "        return \"Middle School\"\n",
    "    else:\n",
    "        return \"Elementary School\"\n",
    "    \n",
    "def get_nela_smog(url):\n",
    "    text = get_article_text(url)\n",
    "    nela = NELAFeatureExtractor()\n",
    "    complexity_vector, complexity_names = nela.extract_complexity(text) \n",
    "    return smog_to_text(complexity_vector[4])"
   ]
  },
  {
   "cell_type": "code",
   "execution_count": 268,
   "id": "da2ee5b9-27c6-48f1-a0ce-bd92eb92c088",
   "metadata": {},
   "outputs": [],
   "source": [
    "# using allsides ratings dataset found at https://www.kaggle.com/datasets/supratimhaldar/allsides-ratings-of-bias-in-electronic-media\n",
    "def get_allsides(url):\n",
    "    allsides = pd.read_csv('dataset/allsides.csv')\n",
    "    parsed = tldextract.extract(url)\n",
    "    website = parsed.domain\n",
    "    allsides_vals = allsides.values\n",
    "    sources = allsides_vals[:,0]\n",
    "    rows = [row for row in allsides_vals if website.lower() in row[0].lower()]\n",
    "    if rows == []:\n",
    "        rows = [row for row in allsides_vals if website.lower()[:3] in row[0].lower() and website.lower()[:3] != 'the']\n",
    "    if rows != []:\n",
    "        rows.sort(key = lambda x: x[2],reverse=True)\n",
    "        return rows[0]\n",
    "    #distances = [jellyfish.levenshtein_distance(website.lower(), x.lower()) for x in sources]\n",
    "    #loc = distances.index(min(distances))\n",
    "    distances = [jellyfish.jaro_similarity(website.lower(), x.lower()) for x in sources]\n",
    "    loc = distances.index(max(distances))\n",
    "    source_allsides_format = sources[loc]\n",
    "    row = allsides_vals[loc]\n",
    "    return row\n",
    "def get_knn_class(url):\n",
    "    nela = NELAFeatureExtractor()\n",
    "    with open('knnfakenews.pkl', 'rb') as f:\n",
    "        knn = pickle.load(f)\n",
    "    text = get_article_text(url)\n",
    "    feature_vector, feature_names = nela.extract_all(text)\n",
    "    vector = [[feature_vector[i] for i in [24, 22, 4, 86]]]\n",
    "    return True if knn.predict(vector) == [1] else False"
   ]
  },
  {
   "cell_type": "code",
   "execution_count": 269,
   "id": "bfe2d55c-6d04-410a-b96d-184ee8759846",
   "metadata": {},
   "outputs": [
    {
     "name": "stdout",
     "output_type": "stream",
     "text": [
      "0.6825396825396824\n",
      "['New York Times (News)' 'left-center' 67516 28834 38682\n",
      " 0.7454113024145598 'Somewhat Disagrees'\n",
      " 'https://www.allsides.com/news-source/new-york-times']\n"
     ]
    }
   ],
   "source": [
    "print(get_allsides(\"https://www.nytimes.com/2024/11/26/world/middleeast/israel-oct-7-inquiry.html\"))"
   ]
  },
  {
   "cell_type": "code",
   "execution_count": 270,
   "id": "7886b806-40aa-47de-80c2-6ab37ed6215f",
   "metadata": {},
   "outputs": [
    {
     "name": "stdout",
     "output_type": "stream",
     "text": [
      "0.6825396825396824\n",
      "['New York Times (News)' 'left-center' 67516 28834 38682\n",
      " 0.7454113024145598 'Somewhat Disagrees'\n",
      " 'https://www.allsides.com/news-source/new-york-times']\n"
     ]
    }
   ],
   "source": [
    "url = \"https://www.nytimes.com/2024/11/26/world/middleeast/israel-oct-7-inquiry.html\"\n",
    "get_knn_class(url)\n",
    "print(get_allsides(url))"
   ]
  },
  {
   "cell_type": "code",
   "execution_count": 271,
   "id": "dd1cc45b-33e5-49ff-8e13-a895903d77a8",
   "metadata": {},
   "outputs": [
    {
     "name": "stdout",
     "output_type": "stream",
     "text": [
      "0.8583333333333334\n",
      "['The Nation' 'left' 2091 1599 492 3.25 'Absolutely Agrees'\n",
      " 'https://www.allsides.com/news-source/nation-media-bias']\n"
     ]
    }
   ],
   "source": [
    "url = \"https://theonion.com/announcement-of-fourth-child-contains-conspicuous-lack-of-exclamation-points/\"\n",
    "get_knn_class(url)\n",
    "get_nela_smog(url)\n",
    "print(get_allsides(url))"
   ]
  },
  {
   "cell_type": "code",
   "execution_count": 272,
   "id": "518f5997-324a-44aa-8527-b94d3ab7befd",
   "metadata": {},
   "outputs": [
    {
     "name": "stdout",
     "output_type": "stream",
     "text": [
      "['CBS News (Online)' 'left-center' 30930 18873 12057 1.5653147549141575\n",
      " 'Agrees' 'https://www.allsides.com/news-source/cbs-news-media-bias']\n"
     ]
    }
   ],
   "source": [
    "url = \"https://www.cbsnews.com/news/tom-homan-greg-abbott-texas-border-visit/\"\n",
    "get_knn_class(url)\n",
    "print(get_allsides(url))"
   ]
  },
  {
   "cell_type": "code",
   "execution_count": 273,
   "id": "9e1d18b1-741d-46af-9d5e-3ae0af909e8e",
   "metadata": {},
   "outputs": [
    {
     "name": "stdout",
     "output_type": "stream",
     "text": [
      "0.698529411764706\n",
      "['Splinter' 'left' 381 257 124 2.0725806451612905 'Strongly Agrees'\n",
      " 'https://www.allsides.com/news-source/splinter-media-bias']\n"
     ]
    }
   ],
   "source": [
    "url = \"https://skepticalinquirer.org/exclusive/are-saunas-good-for-you-yes-but/\"\n",
    "get_knn_class(url)\n",
    "print(get_allsides(url))"
   ]
  },
  {
   "cell_type": "code",
   "execution_count": 274,
   "id": "2bf0d66e-3d33-4344-91b0-a277703f5e42",
   "metadata": {},
   "outputs": [
    {
     "name": "stdout",
     "output_type": "stream",
     "text": [
      "['Jacobin' 'left' 1210 974 236 4.127118644067797 'Absolutely Agrees'\n",
      " 'https://www.allsides.com/news-source/jacobin-media-bias']\n"
     ]
    }
   ],
   "source": [
    "url = 'https://jacobin.com/2024/11/trump-biden-israel-middle-east'\n",
    "get_knn_class(url)\n",
    "print(get_allsides(url))"
   ]
  },
  {
   "cell_type": "code",
   "execution_count": 275,
   "id": "e1dba4a8-d63d-447d-a3a6-c6bf47318b63",
   "metadata": {},
   "outputs": [
    {
     "name": "stdout",
     "output_type": "stream",
     "text": [
      "['CNN (Online News)' 'left' 98448 50713 47735 1.0623860898711637\n",
      " 'Somewhat Agrees' 'https://www.allsides.com/news-source/cnn-media-bias']\n"
     ]
    }
   ],
   "source": [
    "url = 'https://www.cnn.com/2023/10/24/politics/supreme-court-florida-anti-drag-law/index.html'\n",
    "get_knn_class(url)\n",
    "print(get_allsides(url))"
   ]
  },
  {
   "cell_type": "code",
   "execution_count": 276,
   "id": "d933de16-419c-4053-b0d0-a9a588b94169",
   "metadata": {},
   "outputs": [
    {
     "name": "stdout",
     "output_type": "stream",
     "text": [
      "['Forbes' 'center' 21999 13638 8361 1.6311445999282383 'Agrees'\n",
      " 'https://www.allsides.com/news-source/forbes']\n"
     ]
    }
   ],
   "source": [
    "url = 'https://www.forbes.com/sites/alexkonrad/2024/11/27/elon-musk-doge-attracts-young-coders-and-tech-ceos/'\n",
    "get_knn_class(url)\n",
    "print(get_allsides(url))"
   ]
  },
  {
   "cell_type": "code",
   "execution_count": null,
   "id": "16032cfa-f3f6-4b81-9012-edd8d9a5d159",
   "metadata": {},
   "outputs": [],
   "source": []
  }
 ],
 "metadata": {
  "kernelspec": {
   "display_name": "Python 3 (ipykernel)",
   "language": "python",
   "name": "python3"
  },
  "language_info": {
   "codemirror_mode": {
    "name": "ipython",
    "version": 3
   },
   "file_extension": ".py",
   "mimetype": "text/x-python",
   "name": "python",
   "nbconvert_exporter": "python",
   "pygments_lexer": "ipython3",
   "version": "3.10.5"
  }
 },
 "nbformat": 4,
 "nbformat_minor": 5
}
