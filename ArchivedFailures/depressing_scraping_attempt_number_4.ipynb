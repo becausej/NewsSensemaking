{
 "cells": [
  {
   "cell_type": "code",
   "execution_count": 7,
   "id": "7a9ebee7-2f2f-4ca8-ae4e-546e43b228fb",
   "metadata": {},
   "outputs": [
    {
     "name": "stdout",
     "output_type": "stream",
     "text": [
      "HunterBiden Pardon\n",
      "Advertisement\n",
      "Supported by\n",
      "News Analysis\n",
      "President Biden is facing criticism for absolving his son after insisting he would not and, according to some critics in his own party, paving the way for Donald Trump’s return to office.\n",
      "ByPeter Baker\n",
      "Reporting from Luanda, Angola, where he is traveling with President Biden this week\n",
      "There was a time, not that long ago, when President Biden imagined he would etch his place in history as the leader who ended the chaotic reign of Donald J. Trump, passed a raft of “Build Back Better” laws to transform the country and reestablished America’s place in the world.\n",
      "Now, in the desultory final days of his administration, Mr. Biden finds himself repudiated, even by some of his fellow Democrats, as the president who refused to step aside until it was too late, paved the way for Mr. Trump’s return to power and, in a final gesture of personal grievance over stated principle,pardoned his own sonfor multiple felony convictions.\n",
      "The disappointment and frustrationexpressed by his own supporterssince Mr. Biden intervened to spare his son Hunter from prison and any future investigations captured the disenchantment of many Democrats with the outgoing president as the end draws near. How he will be remembered by posterity may be hard to predict at this point, but the past few weeks have not helped write the legacy he had once envisioned.\n",
      "The pardoncame as Mr. Biden’s political stock was already at a low ebb after a stinging election defeat for his party that many allies blamed more on him than on the candidate who stepped up after he belatedly dropped out, Vice President Kamala Harris. The decision to attack the credibility of the justice system to safeguard a relative aggravated admirers who sympathized with his plight as a father yet were shocked that he would break his own promise to respect the courts’ decision.\n",
      "“I don’t think there is any doubt that our country would have been better off if President Biden had decided not to run for re-election,” said Senator Michael Bennet of Colorado, reflecting a view that has been more commonly voiced privately by his fellow Democrats since Mr. Trump beat Ms. Harris last month. “Whether our nominee was the vice president or someone else, we would have had a much better chance to defeat Donald Trump.”\n",
      "Mr. Bennet, a low-key lawmaker not normally given to knee-jerk public criticism of the leader of his party, added that the clemency order fit the same pattern. “His decision to pardon his son, no matter how unconditional his love, feels like another instance of putting his personal interest ahead of his responsibility to the country,” he said. “It further erodes Americans’ faith that the justice system is fair and equal for all.”\n",
      "We are having trouble retrieving the article content.\n",
      "Please enable JavaScript in your browser settings.\n",
      "Thank you for your patience while we verify access. If you are in Reader mode please exit andlog intoyour Times account, orsubscribefor all of The Times.\n",
      "Thank you for your patience while we verify access.\n",
      "Already a subscriber?Log in.\n",
      "Want all of The Times?Subscribe.\n",
      "Advertisement\n"
     ]
    }
   ],
   "source": [
    "import requests\n",
    "from bs4 import BeautifulSoup\n",
    "\n",
    "def scrape_nyt_article(url):\n",
    "    try:\n",
    "        # Headers to simulate a browser visit\n",
    "        headers = {\n",
    "            \"User-Agent\": \"Mozilla/5.0 (Windows NT 10.0; Win64; x64) AppleWebKit/537.36 (KHTML, like Gecko) Chrome/87.0.4280.88 Safari/537.36\"\n",
    "        }\n",
    "        \n",
    "        # Send a GET request\n",
    "        response = requests.get(url, headers=headers)\n",
    "        response.raise_for_status()  # Raise an error for HTTP error codes\n",
    "        \n",
    "        # Parse the HTML content\n",
    "        soup = BeautifulSoup(response.text, 'html.parser')\n",
    "        \n",
    "        # Extract the headline\n",
    "        headline = soup.find('h1').get_text(strip=True) if soup.find('h1') else \"No headline found\"\n",
    "        \n",
    "        # Extract the main content\n",
    "        paragraphs = soup.find_all('p')\n",
    "        content = \"\\n\".join([p.get_text(strip=True) for p in paragraphs])\n",
    "        \n",
    "        return {\n",
    "            \"headline\": headline,\n",
    "            \"content\": content\n",
    "        }\n",
    "    except Exception as e:\n",
    "        return {\"error\": str(e)}\n",
    "\n",
    "# Example usage\n",
    "if __name__ == \"__main__\":\n",
    "    article_url = \"https://www.nytimes.com/2024/12/02/us/politics/biden-pardon-criticized-democrats.html\"\n",
    "    result = scrape_nyt_article(article_url)\n",
    "    print(result['content'])\n"
   ]
  },
  {
   "cell_type": "code",
   "execution_count": 8,
   "id": "37205369-577b-4916-9390-2d3400d9ecde",
   "metadata": {},
   "outputs": [
    {
     "name": "stdout",
     "output_type": "stream",
     "text": [
      "{'error': '401 Client Error: HTTP Forbidden for url: https://www.reuters.com/world/middle-east/iraqi-militias-enter-syria-reinforce-government-forces-military-sources-say-2024-12-02/'}\n"
     ]
    }
   ],
   "source": [
    "import requests\n",
    "from bs4 import BeautifulSoup\n",
    "\n",
    "def scrape_reuters_article(url):\n",
    "    try:\n",
    "        # Headers to simulate a browser visit\n",
    "        headers = {\n",
    "    \"User-Agent\": \"Mozilla/5.0 (Windows NT 10.0; Win64; x64) AppleWebKit/537.36 (KHTML, like Gecko) Chrome/87.0.4280.88 Safari/537.36\",\n",
    "    \"Referer\": \"https://www.reuters.com/\",\n",
    "    \"Accept-Language\": \"en-US,en;q=0.9\",\n",
    "}\n",
    "        \n",
    "        # Send a GET request\n",
    "        response = requests.get(url, headers=headers)\n",
    "        response.raise_for_status()  # Raise an error for HTTP error codes\n",
    "        \n",
    "        # Parse the HTML content\n",
    "        soup = BeautifulSoup(response.text, 'html.parser')\n",
    "        \n",
    "        # Extract the headline\n",
    "        headline = soup.find('h1').get_text(strip=True) if soup.find('h1') else \"No headline found\"\n",
    "        \n",
    "        # Extract the main content\n",
    "        article_body = soup.find('div', class_='article-body__content')\n",
    "        if article_body:\n",
    "            paragraphs = article_body.find_all('p')\n",
    "            content = \"\\n\".join([p.get_text(strip=True) for p in paragraphs])\n",
    "        else:\n",
    "            content = \"No content found\"\n",
    "        \n",
    "        return {\n",
    "            \"headline\": headline,\n",
    "            \"content\": content\n",
    "        }\n",
    "    except Exception as e:\n",
    "        return {\"error\": str(e)}\n",
    "\n",
    "# Example usage\n",
    "if __name__ == \"__main__\":\n",
    "    article_url = \"https://www.reuters.com/world/middle-east/iraqi-militias-enter-syria-reinforce-government-forces-military-sources-say-2024-12-02/\"\n",
    "    result = scrape_reuters_article(article_url)\n",
    "    print(result)\n"
   ]
  },
  {
   "cell_type": "code",
   "execution_count": 11,
   "id": "2fc3ae08-67e0-472b-ade2-5885748f85a1",
   "metadata": {},
   "outputs": [
    {
     "ename": "NoSuchElementException",
     "evalue": "Message: no such element: Unable to locate element: {\"method\":\"tag name\",\"selector\":\"h1\"}\n  (Session info: chrome=131.0.6778.86); For documentation on this error, please visit: https://www.selenium.dev/documentation/webdriver/troubleshooting/errors#no-such-element-exception\nStacktrace:\n\tGetHandleVerifier [0x00007FF600EB6CB5+28821]\n\t(No symbol) [0x00007FF600E23840]\n\t(No symbol) [0x00007FF600CC578A]\n\t(No symbol) [0x00007FF600D191BE]\n\t(No symbol) [0x00007FF600D194AC]\n\t(No symbol) [0x00007FF600D62647]\n\t(No symbol) [0x00007FF600D3F33F]\n\t(No symbol) [0x00007FF600D5F412]\n\t(No symbol) [0x00007FF600D3F0A3]\n\t(No symbol) [0x00007FF600D0A778]\n\t(No symbol) [0x00007FF600D0B8E1]\n\tGetHandleVerifier [0x00007FF6011EFCAD+3408013]\n\tGetHandleVerifier [0x00007FF60120741F+3504127]\n\tGetHandleVerifier [0x00007FF6011FB5FD+3455453]\n\tGetHandleVerifier [0x00007FF600F7BDBB+835995]\n\t(No symbol) [0x00007FF600E2EB5F]\n\t(No symbol) [0x00007FF600E2A814]\n\t(No symbol) [0x00007FF600E2A9AD]\n\t(No symbol) [0x00007FF600E1A199]\n\tBaseThreadInitThunk [0x00007FF83CED259D+29]\n\tRtlUserThreadStart [0x00007FF83E4AAF38+40]\n",
     "output_type": "error",
     "traceback": [
      "\u001b[1;31m---------------------------------------------------------------------------\u001b[0m",
      "\u001b[1;31mNoSuchElementException\u001b[0m                    Traceback (most recent call last)",
      "Cell \u001b[1;32mIn[11], line 27\u001b[0m\n\u001b[0;32m     25\u001b[0m \u001b[38;5;66;03m# Example usage\u001b[39;00m\n\u001b[0;32m     26\u001b[0m url \u001b[38;5;241m=\u001b[39m \u001b[38;5;124m\"\u001b[39m\u001b[38;5;124mhttps://www.reuters.com/world/middle-east/iraqi-militias-enter-syria-reinforce-government-forces-military-sources-say-2024-12-02/\u001b[39m\u001b[38;5;124m\"\u001b[39m\n\u001b[1;32m---> 27\u001b[0m \u001b[38;5;28mprint\u001b[39m(\u001b[43mscrape_reuters_with_selenium\u001b[49m\u001b[43m(\u001b[49m\u001b[43murl\u001b[49m\u001b[43m)\u001b[49m)\n",
      "Cell \u001b[1;32mIn[11], line 17\u001b[0m, in \u001b[0;36mscrape_reuters_with_selenium\u001b[1;34m(url)\u001b[0m\n\u001b[0;32m     14\u001b[0m driver\u001b[38;5;241m.\u001b[39mget(url)\n\u001b[0;32m     16\u001b[0m \u001b[38;5;28;01mtry\u001b[39;00m:\n\u001b[1;32m---> 17\u001b[0m     headline \u001b[38;5;241m=\u001b[39m \u001b[43mdriver\u001b[49m\u001b[38;5;241;43m.\u001b[39;49m\u001b[43mfind_element\u001b[49m\u001b[43m(\u001b[49m\u001b[43mBy\u001b[49m\u001b[38;5;241;43m.\u001b[39;49m\u001b[43mTAG_NAME\u001b[49m\u001b[43m,\u001b[49m\u001b[43m \u001b[49m\u001b[38;5;124;43m\"\u001b[39;49m\u001b[38;5;124;43mh1\u001b[39;49m\u001b[38;5;124;43m\"\u001b[39;49m\u001b[43m)\u001b[49m\u001b[38;5;241m.\u001b[39mtext\n\u001b[0;32m     18\u001b[0m     paragraphs \u001b[38;5;241m=\u001b[39m driver\u001b[38;5;241m.\u001b[39mfind_elements(By\u001b[38;5;241m.\u001b[39mTAG_NAME, \u001b[38;5;124m\"\u001b[39m\u001b[38;5;124mp\u001b[39m\u001b[38;5;124m\"\u001b[39m)\n\u001b[0;32m     19\u001b[0m     content \u001b[38;5;241m=\u001b[39m \u001b[38;5;124m\"\u001b[39m\u001b[38;5;130;01m\\n\u001b[39;00m\u001b[38;5;124m\"\u001b[39m\u001b[38;5;241m.\u001b[39mjoin([p\u001b[38;5;241m.\u001b[39mtext \u001b[38;5;28;01mfor\u001b[39;00m p \u001b[38;5;129;01min\u001b[39;00m paragraphs])\n",
      "File \u001b[1;32m~\\AppData\\Local\\Programs\\Python\\Python313\\Lib\\site-packages\\selenium\\webdriver\\remote\\webdriver.py:770\u001b[0m, in \u001b[0;36mWebDriver.find_element\u001b[1;34m(self, by, value)\u001b[0m\n\u001b[0;32m    767\u001b[0m         \u001b[38;5;28;01mraise\u001b[39;00m NoSuchElementException(\u001b[38;5;124mf\u001b[39m\u001b[38;5;124m\"\u001b[39m\u001b[38;5;124mCannot locate relative element with: \u001b[39m\u001b[38;5;132;01m{\u001b[39;00mby\u001b[38;5;241m.\u001b[39mroot\u001b[38;5;132;01m}\u001b[39;00m\u001b[38;5;124m\"\u001b[39m)\n\u001b[0;32m    768\u001b[0m     \u001b[38;5;28;01mreturn\u001b[39;00m elements[\u001b[38;5;241m0\u001b[39m]\n\u001b[1;32m--> 770\u001b[0m \u001b[38;5;28;01mreturn\u001b[39;00m \u001b[38;5;28;43mself\u001b[39;49m\u001b[38;5;241;43m.\u001b[39;49m\u001b[43mexecute\u001b[49m\u001b[43m(\u001b[49m\u001b[43mCommand\u001b[49m\u001b[38;5;241;43m.\u001b[39;49m\u001b[43mFIND_ELEMENT\u001b[49m\u001b[43m,\u001b[49m\u001b[43m \u001b[49m\u001b[43m{\u001b[49m\u001b[38;5;124;43m\"\u001b[39;49m\u001b[38;5;124;43musing\u001b[39;49m\u001b[38;5;124;43m\"\u001b[39;49m\u001b[43m:\u001b[49m\u001b[43m \u001b[49m\u001b[43mby\u001b[49m\u001b[43m,\u001b[49m\u001b[43m \u001b[49m\u001b[38;5;124;43m\"\u001b[39;49m\u001b[38;5;124;43mvalue\u001b[39;49m\u001b[38;5;124;43m\"\u001b[39;49m\u001b[43m:\u001b[49m\u001b[43m \u001b[49m\u001b[43mvalue\u001b[49m\u001b[43m}\u001b[49m\u001b[43m)\u001b[49m[\u001b[38;5;124m\"\u001b[39m\u001b[38;5;124mvalue\u001b[39m\u001b[38;5;124m\"\u001b[39m]\n",
      "File \u001b[1;32m~\\AppData\\Local\\Programs\\Python\\Python313\\Lib\\site-packages\\selenium\\webdriver\\remote\\webdriver.py:384\u001b[0m, in \u001b[0;36mWebDriver.execute\u001b[1;34m(self, driver_command, params)\u001b[0m\n\u001b[0;32m    382\u001b[0m response \u001b[38;5;241m=\u001b[39m \u001b[38;5;28mself\u001b[39m\u001b[38;5;241m.\u001b[39mcommand_executor\u001b[38;5;241m.\u001b[39mexecute(driver_command, params)\n\u001b[0;32m    383\u001b[0m \u001b[38;5;28;01mif\u001b[39;00m response:\n\u001b[1;32m--> 384\u001b[0m     \u001b[38;5;28;43mself\u001b[39;49m\u001b[38;5;241;43m.\u001b[39;49m\u001b[43merror_handler\u001b[49m\u001b[38;5;241;43m.\u001b[39;49m\u001b[43mcheck_response\u001b[49m\u001b[43m(\u001b[49m\u001b[43mresponse\u001b[49m\u001b[43m)\u001b[49m\n\u001b[0;32m    385\u001b[0m     response[\u001b[38;5;124m\"\u001b[39m\u001b[38;5;124mvalue\u001b[39m\u001b[38;5;124m\"\u001b[39m] \u001b[38;5;241m=\u001b[39m \u001b[38;5;28mself\u001b[39m\u001b[38;5;241m.\u001b[39m_unwrap_value(response\u001b[38;5;241m.\u001b[39mget(\u001b[38;5;124m\"\u001b[39m\u001b[38;5;124mvalue\u001b[39m\u001b[38;5;124m\"\u001b[39m, \u001b[38;5;28;01mNone\u001b[39;00m))\n\u001b[0;32m    386\u001b[0m     \u001b[38;5;28;01mreturn\u001b[39;00m response\n",
      "File \u001b[1;32m~\\AppData\\Local\\Programs\\Python\\Python313\\Lib\\site-packages\\selenium\\webdriver\\remote\\errorhandler.py:232\u001b[0m, in \u001b[0;36mErrorHandler.check_response\u001b[1;34m(self, response)\u001b[0m\n\u001b[0;32m    230\u001b[0m         alert_text \u001b[38;5;241m=\u001b[39m value[\u001b[38;5;124m\"\u001b[39m\u001b[38;5;124malert\u001b[39m\u001b[38;5;124m\"\u001b[39m]\u001b[38;5;241m.\u001b[39mget(\u001b[38;5;124m\"\u001b[39m\u001b[38;5;124mtext\u001b[39m\u001b[38;5;124m\"\u001b[39m)\n\u001b[0;32m    231\u001b[0m     \u001b[38;5;28;01mraise\u001b[39;00m exception_class(message, screen, stacktrace, alert_text)  \u001b[38;5;66;03m# type: ignore[call-arg]  # mypy is not smart enough here\u001b[39;00m\n\u001b[1;32m--> 232\u001b[0m \u001b[38;5;28;01mraise\u001b[39;00m exception_class(message, screen, stacktrace)\n",
      "\u001b[1;31mNoSuchElementException\u001b[0m: Message: no such element: Unable to locate element: {\"method\":\"tag name\",\"selector\":\"h1\"}\n  (Session info: chrome=131.0.6778.86); For documentation on this error, please visit: https://www.selenium.dev/documentation/webdriver/troubleshooting/errors#no-such-element-exception\nStacktrace:\n\tGetHandleVerifier [0x00007FF600EB6CB5+28821]\n\t(No symbol) [0x00007FF600E23840]\n\t(No symbol) [0x00007FF600CC578A]\n\t(No symbol) [0x00007FF600D191BE]\n\t(No symbol) [0x00007FF600D194AC]\n\t(No symbol) [0x00007FF600D62647]\n\t(No symbol) [0x00007FF600D3F33F]\n\t(No symbol) [0x00007FF600D5F412]\n\t(No symbol) [0x00007FF600D3F0A3]\n\t(No symbol) [0x00007FF600D0A778]\n\t(No symbol) [0x00007FF600D0B8E1]\n\tGetHandleVerifier [0x00007FF6011EFCAD+3408013]\n\tGetHandleVerifier [0x00007FF60120741F+3504127]\n\tGetHandleVerifier [0x00007FF6011FB5FD+3455453]\n\tGetHandleVerifier [0x00007FF600F7BDBB+835995]\n\t(No symbol) [0x00007FF600E2EB5F]\n\t(No symbol) [0x00007FF600E2A814]\n\t(No symbol) [0x00007FF600E2A9AD]\n\t(No symbol) [0x00007FF600E1A199]\n\tBaseThreadInitThunk [0x00007FF83CED259D+29]\n\tRtlUserThreadStart [0x00007FF83E4AAF38+40]\n"
     ]
    }
   ],
   "source": [
    "from selenium import webdriver\n",
    "from selenium.webdriver.chrome.service import Service\n",
    "from selenium.webdriver.common.by import By\n",
    "from selenium.webdriver.chrome.options import Options\n",
    "\n",
    "def scrape_reuters_with_selenium(url):\n",
    "    options = Options()\n",
    "    options.add_argument(\"--headless\")\n",
    "    options.add_argument(\"--disable-gpu\")\n",
    "    options.add_argument(\"--no-sandbox\")\n",
    "    options.add_argument(\"--disable-dev-shm-usage\")\n",
    "    \n",
    "    driver = webdriver.Chrome(options=options)\n",
    "    driver.get(url)\n",
    "\n",
    "    try:\n",
    "        headline = driver.find_element(By.TAG_NAME, \"h1\").text\n",
    "        paragraphs = driver.find_elements(By.TAG_NAME, \"p\")\n",
    "        content = \"\\n\".join([p.text for p in paragraphs])\n",
    "    finally:\n",
    "        driver.quit()\n",
    "\n",
    "    return {\"headline\": headline, \"content\": content}\n",
    "\n",
    "# Example usage\n",
    "url = \"https://www.reuters.com/world/middle-east/iraqi-militias-enter-syria-reinforce-government-forces-military-sources-say-2024-12-02/\"\n",
    "print(scrape_reuters_with_selenium(url))"
   ]
  },
  {
   "cell_type": "code",
   "execution_count": null,
   "id": "71689834-83fa-41ce-a086-ded230dd52da",
   "metadata": {},
   "outputs": [],
   "source": []
  }
 ],
 "metadata": {
  "kernelspec": {
   "display_name": "Python 3 (ipykernel)",
   "language": "python",
   "name": "python3"
  },
  "language_info": {
   "codemirror_mode": {
    "name": "ipython",
    "version": 3
   },
   "file_extension": ".py",
   "mimetype": "text/x-python",
   "name": "python",
   "nbconvert_exporter": "python",
   "pygments_lexer": "ipython3",
   "version": "3.13.0"
  }
 },
 "nbformat": 4,
 "nbformat_minor": 5
}
