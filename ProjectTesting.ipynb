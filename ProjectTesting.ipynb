{
 "cells": [
  {
   "cell_type": "markdown",
   "id": "b0379c7f-e40d-4e14-9860-afee53844b41",
   "metadata": {},
   "source": [
    "Run all commands listed in requirements.txt, proper format wasn't working from pipreqs\n",
    "\n",
    "Also run the commented out nltk import & downloads exactly once to use newspaper's nlp features"
   ]
  },
  {
   "cell_type": "code",
   "execution_count": 6,
   "id": "d3c5a454-e7b8-4008-b047-3c5139ac89a4",
   "metadata": {},
   "outputs": [],
   "source": [
    "import newspaper\n",
    "\n",
    "# Run the below once\n",
    "#import nltk\n",
    "#nltk.download('punkt_tab')\n",
    "#nltk.download('punkt')"
   ]
  },
  {
   "cell_type": "code",
   "execution_count": 7,
   "id": "cf1b7758-2552-4666-99a0-ad7fd7b35951",
   "metadata": {},
   "outputs": [],
   "source": [
    "#cnn_paper = newspaper.build('http://cnn.com', number_threads=3)"
   ]
  },
  {
   "cell_type": "code",
   "execution_count": 10,
   "id": "d930ddb7-590d-4f1f-b3ce-d71a6f43951f",
   "metadata": {},
   "outputs": [],
   "source": [
    "url = \"https://www.nytimes.com/2024/11/03/us/politics/harris-trump-times-siena-poll.html\"\n",
    "\n",
    "article = newspaper.article(url)"
   ]
  },
  {
   "cell_type": "code",
   "execution_count": 11,
   "id": "af92e69f-4f5c-478f-b766-9b2f1ffcecd3",
   "metadata": {},
   "outputs": [
    {
     "name": "stdout",
     "output_type": "stream",
     "text": [
      "['battle', 'wire', 'swing', 'polls', 'harris', 'times', 'siena', 'trump', 'states', 'race', 'close', 'presidential', 'final', 'college', 'president', 'north', 'carolina', 'georgia', 'lead', 'pennsylvania', 'arizona', 'belt', 'ms', 'error', 'voters', 'appears', 'hurtling', 'finish', 'set', 'york', 'finding', 'vice', 'kamala', 'showing', 'strength']\n",
      "It has been decades since the polls have shown the nation facing a presidential race that is so close across so many states in both the Sun Belt and the Rust Belt.\n",
      "Ms. Harris is now narrowly ahead in Nevada, North Carolina and Wisconsin, the polls show, while Mr. Trump leads in Arizona.\n",
      "[While the overall poll result is largely unchanged since previous Times/Siena polls, there were some notable shifts, Nate Cohn writes.]\n",
      "In such a close race, even a small systemic polling error could tip the contest decisively in either direction.\n",
      "(With Election Day nearing, 11 percent of voters remained undecided or persuadable, down from 16 percent about a month ago.)\n"
     ]
    }
   ],
   "source": [
    "text = article.text\n",
    "\n",
    "\n",
    "with open('out.txt', 'w') as f:\n",
    "    print(article.text, file=f)  \n",
    "\n",
    "\n",
    "article.nlp()\n",
    "\n",
    "print(article.keywords)\n",
    "\n",
    "print(article.summary)\n"
   ]
  },
  {
   "cell_type": "code",
   "execution_count": null,
   "id": "8dd5f402-749d-4fcb-9885-cb1c94d6c020",
   "metadata": {},
   "outputs": [],
   "source": []
  }
 ],
 "metadata": {
  "kernelspec": {
   "display_name": "Python 3 (ipykernel)",
   "language": "python",
   "name": "python3"
  },
  "language_info": {
   "codemirror_mode": {
    "name": "ipython",
    "version": 3
   },
   "file_extension": ".py",
   "mimetype": "text/x-python",
   "name": "python",
   "nbconvert_exporter": "python",
   "pygments_lexer": "ipython3",
   "version": "3.10.5"
  }
 },
 "nbformat": 4,
 "nbformat_minor": 5
}
