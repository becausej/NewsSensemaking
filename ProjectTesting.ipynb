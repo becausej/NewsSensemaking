{
 "cells": [
  {
   "cell_type": "markdown",
   "id": "b0379c7f-e40d-4e14-9860-afee53844b41",
   "metadata": {},
   "source": [
    "Run all commands listed in requirements.txt, proper format wasn't working from pipreqs\n",
    "\n",
    "Also run the commented out nltk import & downloads exactly once to use newspaper's nlp features"
   ]
  },
  {
   "cell_type": "code",
   "execution_count": 23,
   "id": "d3c5a454-e7b8-4008-b047-3c5139ac89a4",
   "metadata": {},
   "outputs": [],
   "source": [
    "import newspaper\n",
    "\n",
    "# Run the below once\n",
    "#import nltk\n",
    "#nltk.download('punkt_tab')\n",
    "#nltk.download('punkt')"
   ]
  },
  {
   "cell_type": "code",
   "execution_count": 7,
   "id": "cf1b7758-2552-4666-99a0-ad7fd7b35951",
   "metadata": {},
   "outputs": [],
   "source": [
    "#cnn_paper = newspaper.build('http://cnn.com', number_threads=3)"
   ]
  },
  {
   "cell_type": "code",
   "execution_count": 10,
   "id": "d930ddb7-590d-4f1f-b3ce-d71a6f43951f",
   "metadata": {},
   "outputs": [],
   "source": [
    "url = \"https://www.nytimes.com/2024/11/03/us/politics/harris-trump-times-siena-poll.html\"\n",
    "\n",
    "article = newspaper.article(url)"
   ]
  },
  {
   "cell_type": "code",
   "execution_count": 11,
   "id": "af92e69f-4f5c-478f-b766-9b2f1ffcecd3",
   "metadata": {},
   "outputs": [
    {
     "name": "stdout",
     "output_type": "stream",
     "text": [
      "['battle', 'wire', 'swing', 'polls', 'harris', 'times', 'siena', 'trump', 'states', 'race', 'close', 'presidential', 'final', 'college', 'president', 'north', 'carolina', 'georgia', 'lead', 'pennsylvania', 'arizona', 'belt', 'ms', 'error', 'voters', 'appears', 'hurtling', 'finish', 'set', 'york', 'finding', 'vice', 'kamala', 'showing', 'strength']\n",
      "It has been decades since the polls have shown the nation facing a presidential race that is so close across so many states in both the Sun Belt and the Rust Belt.\n",
      "Ms. Harris is now narrowly ahead in Nevada, North Carolina and Wisconsin, the polls show, while Mr. Trump leads in Arizona.\n",
      "[While the overall poll result is largely unchanged since previous Times/Siena polls, there were some notable shifts, Nate Cohn writes.]\n",
      "In such a close race, even a small systemic polling error could tip the contest decisively in either direction.\n",
      "(With Election Day nearing, 11 percent of voters remained undecided or persuadable, down from 16 percent about a month ago.)\n"
     ]
    }
   ],
   "source": [
    "text = article.text\n",
    "\n",
    "\n",
    "with open('out.txt', 'w') as f:\n",
    "    print(article.text, file=f)  \n",
    "\n",
    "\n",
    "article.nlp()\n",
    "\n",
    "print(article.keywords)\n",
    "\n",
    "print(article.summary)\n"
   ]
  },
  {
   "cell_type": "code",
   "execution_count": 25,
   "id": "8dd5f402-749d-4fcb-9885-cb1c94d6c020",
   "metadata": {},
   "outputs": [],
   "source": [
    "from nela_features.nela_features import NELAFeatureExtractor\n",
    "\n",
    "newsarticle = text\n",
    "\n",
    "MORAL_FOUNDATION_DICT = {'HarmVirtue': ['safe', 'peace', 'compassion', 'empath', 'sympath', 'care', 'caring', 'protect', 'shield', 'shelter', 'amity', 'secur', 'benefit', 'defen', 'guard', 'preserve'], 'HarmVice': ['harm', 'suffer', 'war', 'wars', 'warl', 'warring', 'fight', 'violen', 'hurt', 'kill', 'kills', 'killer', 'killed', 'killing', 'endanger', 'cruel', 'brutal', 'abuse', 'damag', 'ruin', 'ravage', 'detriment', 'crush', 'attack', 'annihilate', 'destroy', 'stomp', 'abandon', 'spurn', 'impair', 'exploit', 'exploits', 'exploited', 'exploiting', 'wound'], 'FairnessVirtue': ['fair', 'fairly', 'fairness', 'fair-', 'fairmind', 'fairplay', 'equal', 'justice', 'justness', 'justifi', 'reciproc', 'impartial', 'egalitar', 'rights', 'equity', 'evenness', 'equivalent', 'unbias', 'tolerant', 'equable', 'balance', 'homologous', 'unprejudice', 'reasonable', 'constant', 'honest'], 'FairnessVice': ['unfair', 'unequal', 'bias', 'unjust', 'injust', 'bigot', 'discriminat', 'disproportion', 'inequitable', 'prejud', 'dishonest', 'unscrupulous', 'dissociate', 'preference', 'favoritism', 'segregat', 'exclusion', 'exclud'], 'IngroupVirtue': ['segregat', 'together', 'nation', 'homeland', 'family', 'families', 'familial', 'group', 'loyal', 'patriot', 'communal', 'commune', 'communit', 'communis', 'comrad', 'cadre', 'collectiv', 'joint', 'unison', 'unite', 'fellow', 'guild', 'solidarity', 'devot', 'member', 'cliqu', 'cohort', 'ally', 'insider'], 'IngroupVice': ['abandon', 'foreign', 'enem', 'betray', 'treason', 'traitor', 'treacher', 'disloyal', 'individual', 'apostasy', 'apostate', 'deserted', 'deserter', 'deserting', 'deceiv', 'jilt', 'imposter', 'miscreant', 'spy', 'sequester', 'renegade', 'terroris', 'immigra'], 'AuthorityVirtue': ['preserve', 'loyal', 'obey', 'obedien', 'duty', 'law', 'lawful', 'legal', 'duti', 'honor', 'respect', 'respectful', 'respected', 'respects', 'order', 'father', 'mother', 'motherl', 'mothering', 'mothers', 'tradition', 'hierarch', 'authorit', 'permit', 'permission', 'status', 'rank', 'leader', 'class', 'bourgeoisie', 'caste', 'position', 'complian', 'command', 'supremacy', 'control', 'submi', 'allegian', 'serve', 'abide', 'defere', 'defer', 'revere', 'venerat', 'comply'], 'AuthorityVice': ['betray', 'treason', 'traitor', 'treacher', 'disloyal', 'apostasy', 'apostate', 'deserted', 'deserter', 'deserting', 'defian', 'rebel', 'dissent', 'subver', 'disrespect', 'disobe', 'sediti', 'agitat', 'insubordinat', 'illegal', 'lawless', 'insurgent', 'mutinous', 'defy', 'dissident', 'unfaithful', 'alienate', 'defector', 'heretic', 'nonconformist', 'oppose', 'protest', 'refuse', 'denounce', 'remonstrate', 'riot', 'obstruct'], 'PurityVirtue': ['preserve', 'piety', 'pious', 'purity', 'pure', 'clean', 'steril', 'sacred', 'chast', 'holy', 'holiness', 'saint', 'wholesome', 'celiba', 'abstention', 'virgin', 'virgins', 'virginity', 'virginal', 'austerity', 'integrity', 'modesty', 'abstinen', 'abstemiousness', 'upright', 'limpid', 'unadulterated', 'maiden', 'virtuous', 'refined', 'decen', 'immaculate', 'innocent', 'pristine', 'church'], 'PurityVice': ['ruin', 'exploit', 'exploits', 'exploited', 'exploiting', 'apostasy', 'apostate', 'heretic', 'disgust', 'deprav', 'disease', 'unclean', 'contagio', 'indecen', 'sin', 'sinful', 'sinner', 'sins', 'sinned', 'sinning', 'slut', 'whore', 'dirt', 'impiety', 'impious', 'profan', 'gross', 'repuls', 'sick', 'promiscu', 'lewd', 'adulter', 'debauche', 'defile', 'tramp', 'prostitut', 'unchaste', 'intemperate', 'wanton', 'profligate', 'filth', 'trashy', 'obscen', 'lax', 'taint', 'stain', 'tarnish', 'debase', 'desecrat', 'wicked', 'blemish', 'exploitat', 'pervert', 'wretched'], 'MoralityGeneral': ['honest', 'lawful', 'legal', 'piety', 'pious', 'wholesome', 'integrity', 'upright', 'decen', 'indecen', 'wicked', 'wretched', 'righteous', 'moral', 'ethic', 'value', 'upstanding', 'good', 'goodness', 'principle', 'blameless', 'exemplary', 'lesson', 'canon', 'doctrine', 'noble', 'worth', 'ideal', 'praiseworthy', 'commendable', 'character', 'proper', 'laudable', 'correct', 'wrong', 'evil', 'immoral', 'bad', 'offend', 'offensive', 'transgress']}\n",
    "\n",
    "nela = NELAFeatureExtractor()\n",
    "\n",
    "# Extract all feature groups at once\n",
    "feature_vector, feature_names = nela.extract_all(newsarticle)\n",
    "\n",
    "# Extract each feature group independently\n",
    "style_vector, style_names = nela.extract_style(newsarticle) \n",
    "complexity_vector, complexity_names = nela.extract_complexity(newsarticle) \n",
    "bias_vector, bias_names = nela.extract_bias(newsarticle)\n",
    "affect_vector, affect_names = nela.extract_affect(newsarticle) \n",
    "moral_vector, moral_names = nela.extract_moral(newsarticle) \n",
    "event_vector, event_names = nela.extract_event(newsarticle)"
   ]
  },
  {
   "cell_type": "code",
   "execution_count": 27,
   "id": "51b9051d-f576-46d4-b6b6-aa9a24b01187",
   "metadata": {},
   "outputs": [
    {
     "name": "stdout",
     "output_type": "stream",
     "text": [
      "[0.0859106529209622, 0.003436426116838488, 0.0, 0.020618556701030927, 0.0, 0.013745704467353952, 0.027491408934707903, 0.01718213058419244] ['bias_words', 'assertatives', 'factives', 'hedges', 'implicatives', 'report_verbs', 'positive_opinion_words', 'negative_opinion_words']\n"
     ]
    }
   ],
   "source": [
    "print(bias_vector, bias_names)"
   ]
  },
  {
   "cell_type": "code",
   "execution_count": 28,
   "id": "e4bb189b-49f2-4865-b164-968b23ce32fc",
   "metadata": {},
   "outputs": [
    {
     "name": "stdout",
     "output_type": "stream",
     "text": [
      "['quotes', 'exclaim', 'allpunc', 'allcaps', 'stops', 'CC', 'CD', 'DT', 'EX', 'FW', 'IN', 'JJ', 'JJR', 'JJS', 'LS', 'MD', 'NN', 'NNS', 'NNP', 'NNPS', 'PDT', 'POS', 'PRP', 'PRP$', 'RB', 'RBR', 'RBS', 'RP', 'SYM', 'TO', 'UH', 'WP$', 'WRB', 'VB', 'VBD', 'VBG', 'VBN', 'VBP', 'VBZ', 'WDT', 'WP', '$', \"''\", '(', ')', ',', '--', '.', ':', '``', 'ttr', 'avg_wordlen', 'word_count', 'flesch_kincaid_grade_level', 'smog_index', 'coleman_liau_index', 'lix', 'bias_words', 'assertatives', 'factives', 'hedges', 'implicatives', 'report_verbs', 'positive_opinion_words', 'negative_opinion_words', 'vadneg', 'vadneu', 'vadpos', 'wneg', 'wpos', 'wneu', 'sneg', 'spos', 'sneu', 'HarmVirtue', 'HarmVice', 'FairnessVirtue', 'FairnessVice', 'IngroupVirtue', 'IngroupVice', 'AuthorityVirtue', 'AuthorityVice', 'PurityVirtue', 'PurityVice', 'MoralityGeneral', 'num_locations', 'num_dates']\n"
     ]
    }
   ],
   "source": [
    "print(feature_names)"
   ]
  },
  {
   "cell_type": "code",
   "execution_count": 29,
   "id": "e22fe551-f9da-4446-86ca-1d5a8fe136d3",
   "metadata": {},
   "outputs": [
    {
     "name": "stdout",
     "output_type": "stream",
     "text": [
      "[0.042, 0.918, 0.04, 0.027491408934707903, 0.01718213058419244, 0.030927835051546393, 0.0, 0.006872852233676976, 0.003436426116838488] ['vadneg', 'vadneu', 'vadpos', 'wneg', 'wpos', 'wneu', 'sneg', 'spos', 'sneu']\n"
     ]
    }
   ],
   "source": [
    "print(affect_vector, affect_names)"
   ]
  },
  {
   "cell_type": "code",
   "execution_count": 30,
   "id": "a9f800b4-1e36-48f4-8958-8a7ee6a00bd5",
   "metadata": {},
   "outputs": [],
   "source": [
    "from vaderSentiment.vaderSentiment import SentimentIntensityAnalyzer"
   ]
  },
  {
   "cell_type": "code",
   "execution_count": 35,
   "id": "e58c2d31-4fb8-465e-9d94-78cb6668898d",
   "metadata": {},
   "outputs": [
    {
     "name": "stdout",
     "output_type": "stream",
     "text": [
      "['The presidential race appears to be hurtling toward a photo finish, with the final set of polls by The New York Times and Siena College finding Vice President Kamala Harris showing new strength in North Carolina and Georgia as former President Donald J. Trump erases her lead in Pennsylvania and maintains his advantage in Arizona.', '', 'It has been decades since the polls have shown the nation facing a presidential race that is so close across so many states in both the Sun Belt and the Rust Belt. The tightly contested landscape means the race remains highly uncertain as the campaign enters its final hours.', '', 'Ms. Harris is now narrowly ahead in Nevada, North Carolina and Wisconsin, the polls show, while Mr. Trump leads in Arizona. The polls show them locked in close races in Michigan, Georgia and Pennsylvania. But the results in all seven states are within the margin of sampling error, meaning neither candidate has a definitive lead in any of them.', '', '[While the overall poll result is largely unchanged since previous Times/Siena polls, there were some notable shifts, Nate Cohn writes.]', '', 'Both candidates have multiple pathways available to capture the 270 Electoral College votes required to claim victory, assuming that polls are not dramatically underestimating the support for one or the other. In such a close race, even a small systemic polling error could tip the contest decisively in either direction.', '', 'But there are signs that late deciders are breaking for Ms. Harris: Among the 8 percent of voters who said they had only recently decided on their vote, she wins the group by 55 percent to 44 percent. (With Election Day nearing, 11 percent of voters remained undecided or persuadable, down from 16 percent about a month ago.)']\n",
      "{'neg': 0.04, 'neu': 0.872, 'pos': 0.087, 'compound': 0.4215}\n",
      "{'neg': 0.0, 'neu': 0.0, 'pos': 0.0, 'compound': 0.0}\n",
      "{'neg': 0.049, 'neu': 0.951, 'pos': 0.0, 'compound': -0.3597}\n",
      "{'neg': 0.0, 'neu': 0.0, 'pos': 0.0, 'compound': 0.0}\n",
      "{'neg': 0.058, 'neu': 0.942, 'pos': 0.0, 'compound': -0.5499}\n",
      "{'neg': 0.0, 'neu': 0.0, 'pos': 0.0, 'compound': 0.0}\n",
      "{'neg': 0.0, 'neu': 1.0, 'pos': 0.0, 'compound': 0.0}\n",
      "{'neg': 0.0, 'neu': 0.0, 'pos': 0.0, 'compound': 0.0}\n",
      "{'neg': 0.051, 'neu': 0.899, 'pos': 0.051, 'compound': 0.0}\n",
      "{'neg': 0.0, 'neu': 0.0, 'pos': 0.0, 'compound': 0.0}\n",
      "{'neg': 0.037, 'neu': 0.883, 'pos': 0.08, 'compound': 0.5719}\n",
      "{'neg': 0.042, 'neu': 0.918, 'pos': 0.04, 'compound': 0.0781}\n"
     ]
    }
   ],
   "source": [
    "print(text.split(\"\\n\"))\n",
    "analyzer = SentimentIntensityAnalyzer()\n",
    "for sent in text.split(\"\\n\"):\n",
    "    print(analyzer.polarity_scores(sent))\n",
    "vs = analyzer.polarity_scores(text)\n",
    "print(vs)"
   ]
  },
  {
   "cell_type": "code",
   "execution_count": null,
   "id": "fed86897-fded-4b10-b7b7-b1c8115c8230",
   "metadata": {},
   "outputs": [],
   "source": []
  }
 ],
 "metadata": {
  "kernelspec": {
   "display_name": "Python 3 (ipykernel)",
   "language": "python",
   "name": "python3"
  },
  "language_info": {
   "codemirror_mode": {
    "name": "ipython",
    "version": 3
   },
   "file_extension": ".py",
   "mimetype": "text/x-python",
   "name": "python",
   "nbconvert_exporter": "python",
   "pygments_lexer": "ipython3",
   "version": "3.10.5"
  }
 },
 "nbformat": 4,
 "nbformat_minor": 5
}
