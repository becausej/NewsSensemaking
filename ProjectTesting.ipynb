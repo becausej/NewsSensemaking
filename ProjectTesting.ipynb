{
 "cells": [
  {
   "cell_type": "markdown",
   "id": "b0379c7f-e40d-4e14-9860-afee53844b41",
   "metadata": {},
   "source": [
    "Run all commands listed in requirements.txt, proper format wasn't working from pipreqs\n",
    "\n",
    "Also run the commented out nltk import & downloads exactly once to use newspaper's nlp features"
   ]
  },
  {
   "cell_type": "code",
   "execution_count": 34,
   "id": "d3c5a454-e7b8-4008-b047-3c5139ac89a4",
   "metadata": {},
   "outputs": [],
   "source": [
    "import newspaper\n",
    "\n",
    "# Run the below once\n",
    "#import nltk\n",
    "#nltk.download('punkt_tab')\n",
    "#nltk.download('punkt')"
   ]
  },
  {
   "cell_type": "code",
   "execution_count": 35,
   "id": "cf1b7758-2552-4666-99a0-ad7fd7b35951",
   "metadata": {},
   "outputs": [],
   "source": [
    "#cnn_paper = newspaper.build('http://cnn.com', number_threads=3)"
   ]
  },
  {
   "cell_type": "code",
   "execution_count": 36,
   "id": "d930ddb7-590d-4f1f-b3ce-d71a6f43951f",
   "metadata": {},
   "outputs": [],
   "source": [
    "url = \"https://www.infowars.com/posts/leftist-arrested-for-violently-assaulting-man-wearing-maga-hat\"\n",
    "\n",
    "article = newspaper.article(url)"
   ]
  },
  {
   "cell_type": "code",
   "execution_count": 37,
   "id": "af92e69f-4f5c-478f-b766-9b2f1ffcecd3",
   "metadata": {},
   "outputs": [
    {
     "name": "stdout",
     "output_type": "stream",
     "text": [
      "['leftist', 'violently', 'assaulting', 'man', 'wearing', 'maga', 'hat', 'arrested', 'trump', 'yott', 'assault', 'teeth', 'multiple', 'class', 'held', 'supporters', 'hillary', 'clinton', 'democrats', 'rally', 'attacked', 'stranger', 'convenience', 'store', 'broke', 'simply', 'robert', '60', 'place', 'tops', 'friendly', 'markets', 'bath', 'york', 'local']\n",
      "A man attacked a stranger in a convenience store and broke his teeth—simply because he was wearing a MAGA hat.\n",
      "Robert Yott, 60, was arrested following the assault, which took place at Tops Friendly Markets in Bath, New York, on Friday.\n",
      "According to local police, Yott became aggressive when he saw the man wearing a Trump 2024 hat.\n",
      "He punched the man in the mouth and head multiple times, breaking his teeth.\n",
      "Yott was charged with second-degree assault (a class D felony) and fourth-degree criminal mischief (a class A misdemeanor).\n"
     ]
    }
   ],
   "source": [
    "text = article.text\n",
    "\n",
    "\n",
    "with open('out.txt', 'w') as f:\n",
    "    print(article.text, file=f)  \n",
    "\n",
    "\n",
    "article.nlp()\n",
    "\n",
    "print(article.keywords)\n",
    "\n",
    "print(article.summary)\n"
   ]
  },
  {
   "cell_type": "code",
   "execution_count": 38,
   "id": "dc75685d-84c0-4506-be9d-aadc3ea3fcb7",
   "metadata": {},
   "outputs": [
    {
     "name": "stdout",
     "output_type": "stream",
     "text": [
      "A man attacked a stranger in a convenience store and broke his teeth—simply because he was wearing a MAGA hat.\n",
      "\n",
      "Robert Yott, 60, was arrested following the assault, which took place at Tops Friendly Markets in Bath, New York, on Friday.\n",
      "\n",
      "According to local police, Yott became aggressive when he saw the man wearing a Trump 2024 hat. He punched the man in the mouth and head multiple times, breaking his teeth. The two men had never met before.\n",
      "\n",
      "Yott was charged with second-degree assault (a class D felony) and fourth-degree criminal mischief (a class A misdemeanor).\n",
      "\n",
      "After his arrest, Yott was taken to the Steuben County Jail to await arraignment. He is currently being held without bail.\n",
      "\n",
      "The assault is yet another example of what happens when you demonise and dehumanise your political opponents as savagely and consistently as the left has demonised and dehumanised Donald Trump and the MAGA movement.\n",
      "\n",
      "In recent weeks, attacks on Trump and his supporters have intensified, with familiar slurs like “Nazis” and “garbage” being hurled by Kamala Harris, Joe Biden, Hillary Clinton, Gavin Newsom and other prominent Democrats.\n",
      "\n",
      "Hillary Clinton, for example, suggested that Trump’s huge Madison Square Garden rally was a direct reenactment of the 1939 German American Bund rally held there, in support of Hitler and the National Socialists.\n",
      "\n",
      "Trump, his family and running-mate, JD Vance, have all accused the Democrats and the media of creating an environment in which violence against the former and president and his supporters, including multiple assassination attempts against Trump himself, can be justified and even encouraged.\n"
     ]
    }
   ],
   "source": [
    "print(text)"
   ]
  },
  {
   "cell_type": "code",
   "execution_count": 39,
   "id": "8dd5f402-749d-4fcb-9885-cb1c94d6c020",
   "metadata": {},
   "outputs": [],
   "source": [
    "from nela_features.nela_features import NELAFeatureExtractor\n",
    "\n",
    "newsarticle = text\n",
    "\n",
    "MORAL_FOUNDATION_DICT = {'HarmVirtue': ['safe', 'peace', 'compassion', 'empath', 'sympath', 'care', 'caring', 'protect', 'shield', 'shelter', 'amity', 'secur', 'benefit', 'defen', 'guard', 'preserve'], 'HarmVice': ['harm', 'suffer', 'war', 'wars', 'warl', 'warring', 'fight', 'violen', 'hurt', 'kill', 'kills', 'killer', 'killed', 'killing', 'endanger', 'cruel', 'brutal', 'abuse', 'damag', 'ruin', 'ravage', 'detriment', 'crush', 'attack', 'annihilate', 'destroy', 'stomp', 'abandon', 'spurn', 'impair', 'exploit', 'exploits', 'exploited', 'exploiting', 'wound'], 'FairnessVirtue': ['fair', 'fairly', 'fairness', 'fair-', 'fairmind', 'fairplay', 'equal', 'justice', 'justness', 'justifi', 'reciproc', 'impartial', 'egalitar', 'rights', 'equity', 'evenness', 'equivalent', 'unbias', 'tolerant', 'equable', 'balance', 'homologous', 'unprejudice', 'reasonable', 'constant', 'honest'], 'FairnessVice': ['unfair', 'unequal', 'bias', 'unjust', 'injust', 'bigot', 'discriminat', 'disproportion', 'inequitable', 'prejud', 'dishonest', 'unscrupulous', 'dissociate', 'preference', 'favoritism', 'segregat', 'exclusion', 'exclud'], 'IngroupVirtue': ['segregat', 'together', 'nation', 'homeland', 'family', 'families', 'familial', 'group', 'loyal', 'patriot', 'communal', 'commune', 'communit', 'communis', 'comrad', 'cadre', 'collectiv', 'joint', 'unison', 'unite', 'fellow', 'guild', 'solidarity', 'devot', 'member', 'cliqu', 'cohort', 'ally', 'insider'], 'IngroupVice': ['abandon', 'foreign', 'enem', 'betray', 'treason', 'traitor', 'treacher', 'disloyal', 'individual', 'apostasy', 'apostate', 'deserted', 'deserter', 'deserting', 'deceiv', 'jilt', 'imposter', 'miscreant', 'spy', 'sequester', 'renegade', 'terroris', 'immigra'], 'AuthorityVirtue': ['preserve', 'loyal', 'obey', 'obedien', 'duty', 'law', 'lawful', 'legal', 'duti', 'honor', 'respect', 'respectful', 'respected', 'respects', 'order', 'father', 'mother', 'motherl', 'mothering', 'mothers', 'tradition', 'hierarch', 'authorit', 'permit', 'permission', 'status', 'rank', 'leader', 'class', 'bourgeoisie', 'caste', 'position', 'complian', 'command', 'supremacy', 'control', 'submi', 'allegian', 'serve', 'abide', 'defere', 'defer', 'revere', 'venerat', 'comply'], 'AuthorityVice': ['betray', 'treason', 'traitor', 'treacher', 'disloyal', 'apostasy', 'apostate', 'deserted', 'deserter', 'deserting', 'defian', 'rebel', 'dissent', 'subver', 'disrespect', 'disobe', 'sediti', 'agitat', 'insubordinat', 'illegal', 'lawless', 'insurgent', 'mutinous', 'defy', 'dissident', 'unfaithful', 'alienate', 'defector', 'heretic', 'nonconformist', 'oppose', 'protest', 'refuse', 'denounce', 'remonstrate', 'riot', 'obstruct'], 'PurityVirtue': ['preserve', 'piety', 'pious', 'purity', 'pure', 'clean', 'steril', 'sacred', 'chast', 'holy', 'holiness', 'saint', 'wholesome', 'celiba', 'abstention', 'virgin', 'virgins', 'virginity', 'virginal', 'austerity', 'integrity', 'modesty', 'abstinen', 'abstemiousness', 'upright', 'limpid', 'unadulterated', 'maiden', 'virtuous', 'refined', 'decen', 'immaculate', 'innocent', 'pristine', 'church'], 'PurityVice': ['ruin', 'exploit', 'exploits', 'exploited', 'exploiting', 'apostasy', 'apostate', 'heretic', 'disgust', 'deprav', 'disease', 'unclean', 'contagio', 'indecen', 'sin', 'sinful', 'sinner', 'sins', 'sinned', 'sinning', 'slut', 'whore', 'dirt', 'impiety', 'impious', 'profan', 'gross', 'repuls', 'sick', 'promiscu', 'lewd', 'adulter', 'debauche', 'defile', 'tramp', 'prostitut', 'unchaste', 'intemperate', 'wanton', 'profligate', 'filth', 'trashy', 'obscen', 'lax', 'taint', 'stain', 'tarnish', 'debase', 'desecrat', 'wicked', 'blemish', 'exploitat', 'pervert', 'wretched'], 'MoralityGeneral': ['honest', 'lawful', 'legal', 'piety', 'pious', 'wholesome', 'integrity', 'upright', 'decen', 'indecen', 'wicked', 'wretched', 'righteous', 'moral', 'ethic', 'value', 'upstanding', 'good', 'goodness', 'principle', 'blameless', 'exemplary', 'lesson', 'canon', 'doctrine', 'noble', 'worth', 'ideal', 'praiseworthy', 'commendable', 'character', 'proper', 'laudable', 'correct', 'wrong', 'evil', 'immoral', 'bad', 'offend', 'offensive', 'transgress']}\n",
    "\n",
    "nela = NELAFeatureExtractor()\n",
    "\n",
    "# Extract all feature groups at once\n",
    "feature_vector, feature_names = nela.extract_all(newsarticle)\n",
    "\n",
    "# Extract each feature group independently\n",
    "style_vector, style_names = nela.extract_style(newsarticle) \n",
    "complexity_vector, complexity_names = nela.extract_complexity(newsarticle) \n",
    "bias_vector, bias_names = nela.extract_bias(newsarticle)\n",
    "affect_vector, affect_names = nela.extract_affect(newsarticle) \n",
    "moral_vector, moral_names = nela.extract_moral(newsarticle) \n",
    "event_vector, event_names = nela.extract_event(newsarticle)"
   ]
  },
  {
   "cell_type": "code",
   "execution_count": 40,
   "id": "51b9051d-f576-46d4-b6b6-aa9a24b01187",
   "metadata": {},
   "outputs": [
    {
     "name": "stdout",
     "output_type": "stream",
     "text": [
      "[0.06367041198501873, 0.0, 0.0, 0.003745318352059925, 0.003745318352059925, 0.011235955056179775, 0.018726591760299626, 0.04119850187265917] ['bias_words', 'assertatives', 'factives', 'hedges', 'implicatives', 'report_verbs', 'positive_opinion_words', 'negative_opinion_words']\n"
     ]
    }
   ],
   "source": [
    "print(bias_vector, bias_names)"
   ]
  },
  {
   "cell_type": "code",
   "execution_count": 41,
   "id": "e4bb189b-49f2-4865-b164-968b23ce32fc",
   "metadata": {},
   "outputs": [
    {
     "name": "stdout",
     "output_type": "stream",
     "text": [
      "['quotes', 'exclaim', 'allpunc', 'allcaps', 'stops', 'CC', 'CD', 'DT', 'EX', 'FW', 'IN', 'JJ', 'JJR', 'JJS', 'LS', 'MD', 'NN', 'NNS', 'NNP', 'NNPS', 'PDT', 'POS', 'PRP', 'PRP$', 'RB', 'RBR', 'RBS', 'RP', 'SYM', 'TO', 'UH', 'WP$', 'WRB', 'VB', 'VBD', 'VBG', 'VBN', 'VBP', 'VBZ', 'WDT', 'WP', '$', \"''\", '(', ')', ',', '--', '.', ':', '``', 'ttr', 'avg_wordlen', 'word_count', 'flesch_kincaid_grade_level', 'smog_index', 'coleman_liau_index', 'lix', 'bias_words', 'assertatives', 'factives', 'hedges', 'implicatives', 'report_verbs', 'positive_opinion_words', 'negative_opinion_words', 'vadneg', 'vadneu', 'vadpos', 'wneg', 'wpos', 'wneu', 'sneg', 'spos', 'sneu', 'HarmVirtue', 'HarmVice', 'FairnessVirtue', 'FairnessVice', 'IngroupVirtue', 'IngroupVice', 'AuthorityVirtue', 'AuthorityVice', 'PurityVirtue', 'PurityVice', 'MoralityGeneral', 'num_locations', 'num_dates']\n"
     ]
    }
   ],
   "source": [
    "print(feature_names)"
   ]
  },
  {
   "cell_type": "code",
   "execution_count": 42,
   "id": "e22fe551-f9da-4446-86ca-1d5a8fe136d3",
   "metadata": {},
   "outputs": [
    {
     "name": "stdout",
     "output_type": "stream",
     "text": [
      "[0.153, 0.739, 0.108, 0.0299625468164794, 0.011235955056179775, 0.011235955056179775, 0.0149812734082397, 0.0149812734082397, 0.0] ['vadneg', 'vadneu', 'vadpos', 'wneg', 'wpos', 'wneu', 'sneg', 'spos', 'sneu']\n"
     ]
    }
   ],
   "source": [
    "print(affect_vector, affect_names)"
   ]
  },
  {
   "cell_type": "code",
   "execution_count": 33,
   "id": "5c68b992-37af-4ee9-9d13-80f151463474",
   "metadata": {},
   "outputs": [
    {
     "name": "stdout",
     "output_type": "stream",
     "text": [
      "[0.0, 0.002178649237472767, 0.0, 0.0, 0.0, 0.0, 0.0, 0.0, 0.0, 0.0, 0.0] ['HarmVirtue', 'HarmVice', 'FairnessVirtue', 'FairnessVice', 'IngroupVirtue', 'IngroupVice', 'AuthorityVirtue', 'AuthorityVice', 'PurityVirtue', 'PurityVice', 'MoralityGeneral']\n"
     ]
    }
   ],
   "source": [
    "print(moral_vector, moral_names)"
   ]
  },
  {
   "cell_type": "code",
   "execution_count": 24,
   "id": "a9f800b4-1e36-48f4-8958-8a7ee6a00bd5",
   "metadata": {},
   "outputs": [],
   "source": [
    "from vaderSentiment.vaderSentiment import SentimentIntensityAnalyzer"
   ]
  },
  {
   "cell_type": "code",
   "execution_count": 25,
   "id": "e58c2d31-4fb8-465e-9d94-78cb6668898d",
   "metadata": {},
   "outputs": [
    {
     "name": "stdout",
     "output_type": "stream",
     "text": [
      "['Democratic strategist James Carville predicted on Friday that Vice President Kamala Harris would win the election because former President Trump is \"stone a-- nuts\" during an interview.', '', '\"She’s got more money, got more energy, has a more united party, has better surrogates and he’s stone a-- nuts,\" Carville told MSNBC\\'s \"Morning Joe,\" when asked about why he thinks the vice president will be the winner.', '', 'Polls show the race for the White House remains neck-and-neck as Harris and Trump finish off their presidential campaigns ahead of Election Day.', '', '\"When you start talking about lining up a political opponent with nine people in a firing squad and then you have the Washington Post and the Los Angeles times saying, ‘oh, I don’t want to get involved in this, this is dirty politics.’ It’s unbelievable,\" Carville added, referring to Trump\\'s \"war hawk\" criticisms of Republican Liz Cheney, which even some of his critics say have been taken out of context.', '', 'LIZ CHENEY BASHES TRUMP IN NEW KEY BATTLEGROUND HARRIS AD AS ELECTION HITS FINAL SPRINT', '', 'Carville also took aim at the Washington Post and the Los Angeles Times, who both refused to endorse either Harris or Trump in this election.', '', 'Carville wrote in the New York Times at the end of October that he was \"certain\" the VP would win.', '', '\"America, it will all be okay. Ms. Harris will be elected the next President of the United States. Of this, I am certain,\" he wrote.', '', '\"More than in any other election in my lifetime, I’ve been consistently asked by people of all stripes and creeds: ‘Can Kamala Harris win this thing? Are we going to be OK?’ This sentiment is heard over and over from sweaty Democratic operatives who all too often love to run to the press with their woes,\" he wrote.', '', 'CLICK HERE FOR MORE COVERAGE OF MEDIA AND CULTURE', '', 'The pundit assured these concerned voters that she will win and provided his three reasons why, starting with his point that \"Mr. Trump is a repeat electoral loser. This time will be no different.\"', '', 'He argued that the biggest reason Harris would win was because \"the whole Republican Party has been on a losing streak since Mr. Trump took it over.\"', '', 'CLICK HERE TO GET THE FOX NEWS APP', '', 'Carville chalked up his prediction to his gut feeling.', '', '\"My final reason is 100 percent emotional,\" he said.', '', 'He explained, \"I refuse to believe that the same country that has time and again overcome its mistakes to bend its future toward justice will make the same mistake twice. America overcame Mr. Trump in 2020. I know that we know we are better than this.\"']\n",
      "{'neg': 0.074, 'neu': 0.804, 'pos': 0.122, 'compound': 0.3612}\n",
      "{'neg': 0.0, 'neu': 0.0, 'pos': 0.0, 'compound': 0.0}\n",
      "{'neg': 0.046, 'neu': 0.647, 'pos': 0.307, 'compound': 0.9164}\n",
      "{'neg': 0.0, 'neu': 0.0, 'pos': 0.0, 'compound': 0.0}\n",
      "{'neg': 0.0, 'neu': 1.0, 'pos': 0.0, 'compound': 0.0}\n",
      "{'neg': 0.0, 'neu': 0.0, 'pos': 0.0, 'compound': 0.0}\n",
      "{'neg': 0.168, 'neu': 0.793, 'pos': 0.039, 'compound': -0.8807}\n",
      "{'neg': 0.0, 'neu': 0.0, 'pos': 0.0, 'compound': 0.0}\n",
      "{'neg': 0.162, 'neu': 0.838, 'pos': 0.0, 'compound': -0.4019}\n",
      "{'neg': 0.0, 'neu': 0.0, 'pos': 0.0, 'compound': 0.0}\n",
      "{'neg': 0.08, 'neu': 0.836, 'pos': 0.084, 'compound': 0.0258}\n",
      "{'neg': 0.0, 'neu': 0.0, 'pos': 0.0, 'compound': 0.0}\n",
      "{'neg': 0.0, 'neu': 0.753, 'pos': 0.247, 'compound': 0.7096}\n",
      "{'neg': 0.0, 'neu': 0.0, 'pos': 0.0, 'compound': 0.0}\n",
      "{'neg': 0.0, 'neu': 0.764, 'pos': 0.236, 'compound': 0.7003}\n",
      "{'neg': 0.0, 'neu': 0.0, 'pos': 0.0, 'compound': 0.0}\n",
      "{'neg': 0.044, 'neu': 0.83, 'pos': 0.126, 'compound': 0.755}\n",
      "{'neg': 0.0, 'neu': 0.0, 'pos': 0.0, 'compound': 0.0}\n",
      "{'neg': 0.0, 'neu': 1.0, 'pos': 0.0, 'compound': 0.0}\n",
      "{'neg': 0.0, 'neu': 0.0, 'pos': 0.0, 'compound': 0.0}\n",
      "{'neg': 0.134, 'neu': 0.716, 'pos': 0.15, 'compound': 0.1779}\n",
      "{'neg': 0.0, 'neu': 0.0, 'pos': 0.0, 'compound': 0.0}\n",
      "{'neg': 0.147, 'neu': 0.665, 'pos': 0.188, 'compound': 0.34}\n",
      "{'neg': 0.0, 'neu': 0.0, 'pos': 0.0, 'compound': 0.0}\n",
      "{'neg': 0.0, 'neu': 1.0, 'pos': 0.0, 'compound': 0.0}\n",
      "{'neg': 0.0, 'neu': 0.0, 'pos': 0.0, 'compound': 0.0}\n",
      "{'neg': 0.0, 'neu': 0.842, 'pos': 0.158, 'compound': 0.128}\n",
      "{'neg': 0.0, 'neu': 0.0, 'pos': 0.0, 'compound': 0.0}\n",
      "{'neg': 0.0, 'neu': 0.833, 'pos': 0.167, 'compound': 0.1531}\n",
      "{'neg': 0.0, 'neu': 0.0, 'pos': 0.0, 'compound': 0.0}\n",
      "{'neg': 0.131, 'neu': 0.754, 'pos': 0.116, 'compound': 0.0516}\n",
      "{'neg': 0.086, 'neu': 0.782, 'pos': 0.132, 'compound': 0.9732}\n"
     ]
    }
   ],
   "source": [
    "print(text.split(\"\\n\"))\n",
    "analyzer = SentimentIntensityAnalyzer()\n",
    "for sent in text.split(\"\\n\"):\n",
    "    print(analyzer.polarity_scores(sent))\n",
    "vs = analyzer.polarity_scores(text)\n",
    "print(vs)"
   ]
  },
  {
   "cell_type": "code",
   "execution_count": 26,
   "id": "fed86897-fded-4b10-b7b7-b1c8115c8230",
   "metadata": {},
   "outputs": [
    {
     "name": "stdout",
     "output_type": "stream",
     "text": [
      "Keywords:\n",
      "('trump', 0.2428)\n",
      "('presidential', 0.2404)\n",
      "('msnbc', 0.2183)\n",
      "('president', 0.2008)\n",
      "('republican', 0.1405)\n"
     ]
    }
   ],
   "source": [
    "from keybert import KeyBERT\n",
    "\n",
    "# Initialize the KeyBERT model\n",
    "model = KeyBERT('distilbert-base-nli-mean-tokens')\n",
    "\n",
    "# Example text\n",
    "\n",
    "# Extract keywords\n",
    "keywords = model.extract_keywords(text)\n",
    "\n",
    "# Print the keywords\n",
    "print(\"Keywords:\")\n",
    "for keyword in keywords:\n",
    "    print(keyword)"
   ]
  },
  {
   "cell_type": "code",
   "execution_count": null,
   "id": "da2ee5b9-27c6-48f1-a0ce-bd92eb92c088",
   "metadata": {},
   "outputs": [],
   "source": []
  }
 ],
 "metadata": {
  "kernelspec": {
   "display_name": "Python 3 (ipykernel)",
   "language": "python",
   "name": "python3"
  },
  "language_info": {
   "codemirror_mode": {
    "name": "ipython",
    "version": 3
   },
   "file_extension": ".py",
   "mimetype": "text/x-python",
   "name": "python",
   "nbconvert_exporter": "python",
   "pygments_lexer": "ipython3",
   "version": "3.10.5"
  }
 },
 "nbformat": 4,
 "nbformat_minor": 5
}
